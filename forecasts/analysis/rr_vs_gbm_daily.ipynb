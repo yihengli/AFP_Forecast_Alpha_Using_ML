{
 "cells": [
  {
   "cell_type": "code",
   "execution_count": 1,
   "metadata": {
    "ExecuteTime": {
     "end_time": "2019-02-24T01:37:58.686456Z",
     "start_time": "2019-02-24T01:37:58.647594Z"
    }
   },
   "outputs": [],
   "source": [
    "%load_ext autoreload\n",
    "%autoreload 1"
   ]
  },
  {
   "cell_type": "code",
   "execution_count": 2,
   "metadata": {
    "ExecuteTime": {
     "end_time": "2019-02-24T01:38:01.999318Z",
     "start_time": "2019-02-24T01:37:58.689519Z"
    }
   },
   "outputs": [],
   "source": [
    "import os\n",
    "import sys\n",
    "sys.path.append(os.path.abspath('..'))\n",
    "\n",
    "import pandas as pd\n",
    "import numpy as np\n",
    "import matplotlib as mpl\n",
    "import matplotlib.pyplot as plt\n",
    "from pandas.plotting import register_matplotlib_converters\n",
    "register_matplotlib_converters()\n",
    "\n",
    "%aimport analyzers\n",
    "%aimport processor\n",
    "%aimport utils\n",
    "%aimport forecast\n",
    "%aimport models\n",
    "\n",
    "plt.style.use('seaborn')\n",
    "mpl.rcParams['legend.frameon'] = True\n",
    "mpl.rcParams['legend.facecolor'] = 'w'"
   ]
  },
  {
   "cell_type": "markdown",
   "metadata": {},
   "source": [
    "## Set up global parameters"
   ]
  },
  {
   "cell_type": "code",
   "execution_count": 3,
   "metadata": {
    "ExecuteTime": {
     "end_time": "2019-02-24T01:38:02.016170Z",
     "start_time": "2019-02-24T01:38:02.003350Z"
    }
   },
   "outputs": [],
   "source": [
    "# Predictions Locations\n",
    "prediction_folder = '/Users/liyiheng/Google Drive/GroupWorks/Term4-AFP/forecasts/Predictions/'\n",
    "RR_Prediction_Path = os.path.join(prediction_folder, 'RR_daily.csv')\n",
    "GBM_Prediction_Path = os.path.join(prediction_folder, 'GBM_daily.csv')\n",
    "\n",
    "# Analyzer Arguments\n",
    "task = 'yahoo'\n",
    "tickers = processor.YahooProcessor.get_all_tickers()\n",
    "folder = None\n",
    "freq = 'd'\n",
    "fromdate = '2000-01-01'\n",
    "todate = '2018-12-31'\n",
    "forward_bars = 0\n",
    "train_periods = ('2000-01-01', '2014-12-31')\n",
    "test_periods = ('2015-01-01', '2018-12-31')\n",
    "\n",
    "# Outlier Stocks\n",
    "outliers = ['SAF', 'BHF']\n",
    "\n",
    "# Plot Arguments\n",
    "return_type = 'Daily Returns'"
   ]
  },
  {
   "cell_type": "markdown",
   "metadata": {},
   "source": [
    "## Calculate RMSE etc. performance metrics"
   ]
  },
  {
   "cell_type": "code",
   "execution_count": 4,
   "metadata": {
    "ExecuteTime": {
     "end_time": "2019-02-24T01:38:21.982331Z",
     "start_time": "2019-02-24T01:38:02.022426Z"
    },
    "scrolled": true
   },
   "outputs": [
    {
     "name": "stdout",
     "output_type": "stream",
     "text": [
      "2019-02-23 17:38:02,027 -  INFO   Loading Yahoo Labels...\n"
     ]
    },
    {
     "data": {
      "application/vnd.jupyter.widget-view+json": {
       "model_id": "9946d6036d08445985d8afb54b114fce",
       "version_major": 2,
       "version_minor": 0
      },
      "text/plain": [
       "HBox(children=(IntProgress(value=0, max=638), HTML(value='')))"
      ]
     },
     "metadata": {},
     "output_type": "display_data"
    },
    {
     "name": "stdout",
     "output_type": "stream",
     "text": [
      "\n",
      "2019-02-23 17:38:14,260 -  INFO   Loading Predictions Files From /Users/liyiheng/Google Drive/GroupWorks/Term4-AFP/forecasts/Predictions/GBM_daily.csv\n"
     ]
    },
    {
     "data": {
      "application/vnd.jupyter.widget-view+json": {
       "model_id": "7776e76049234b53aab55507f7700555",
       "version_major": 2,
       "version_minor": 0
      },
      "text/plain": [
       "HBox(children=(IntProgress(value=0, max=597), HTML(value='')))"
      ]
     },
     "metadata": {},
     "output_type": "display_data"
    },
    {
     "name": "stdout",
     "output_type": "stream",
     "text": [
      "\n",
      "2019-02-23 17:38:21,575 -  INFO   Task Finished: 597 Attempted and 0 Failed.\n"
     ]
    }
   ],
   "source": [
    "res_gbm_daily = analyzers.Analyzer().analyze(\n",
    "    pred_path=GBM_Prediction_Path,\n",
    "    train_periods=train_periods,\n",
    "    test_periods=test_periods,\n",
    "    rolling_metric='cum_abs_error',\n",
    "    task = task,\n",
    "    tickers = tickers,\n",
    "    folder = None,\n",
    "    freq = 'd',\n",
    "    forward_bars = forward_bars,\n",
    "    output_file=None)"
   ]
  },
  {
   "cell_type": "code",
   "execution_count": 5,
   "metadata": {
    "ExecuteTime": {
     "end_time": "2019-02-24T01:38:41.034602Z",
     "start_time": "2019-02-24T01:38:21.985067Z"
    },
    "scrolled": true
   },
   "outputs": [
    {
     "name": "stdout",
     "output_type": "stream",
     "text": [
      "2019-02-23 17:38:21,989 -  INFO   Loading Yahoo Labels...\n"
     ]
    },
    {
     "data": {
      "application/vnd.jupyter.widget-view+json": {
       "model_id": "20983a1621974f96839e20a53cdc142a",
       "version_major": 2,
       "version_minor": 0
      },
      "text/plain": [
       "HBox(children=(IntProgress(value=0, max=638), HTML(value='')))"
      ]
     },
     "metadata": {},
     "output_type": "display_data"
    },
    {
     "name": "stdout",
     "output_type": "stream",
     "text": [
      "\n",
      "2019-02-23 17:38:31,693 -  INFO   Loading Predictions Files From /Users/liyiheng/Google Drive/GroupWorks/Term4-AFP/forecasts/Predictions/RR_daily.csv\n"
     ]
    },
    {
     "data": {
      "application/vnd.jupyter.widget-view+json": {
       "model_id": "4e380c40761345999ebfee2d4eb81f17",
       "version_major": 2,
       "version_minor": 0
      },
      "text/plain": [
       "HBox(children=(IntProgress(value=0, max=624), HTML(value='')))"
      ]
     },
     "metadata": {},
     "output_type": "display_data"
    },
    {
     "name": "stdout",
     "output_type": "stream",
     "text": [
      "2019-02-23 17:38:32,801 -  ERROR  <ADNT>: Not Enough In Sample Predictions!\n",
      "2019-02-23 17:38:33,133 -  ERROR  <ANET>: Not Enough In Sample Predictions!\n",
      "2019-02-23 17:38:33,289 -  ERROR  <ASIX>: Not Enough In Sample Predictions!\n",
      "2019-02-23 17:38:33,326 -  ERROR  <ATUS>: Not Enough In Sample Predictions!\n",
      "2019-02-23 17:38:33,668 -  ERROR  <BTU>: Not Enough In Sample Predictions!\n",
      "2019-02-23 17:38:33,763 -  ERROR  <CARS>: Not Enough In Sample Predictions!\n",
      "2019-02-23 17:38:33,914 -  ERROR  <CFG>: Not Enough In Sample Predictions!\n",
      "2019-02-23 17:38:34,108 -  ERROR  <CNDT>: Not Enough In Sample Predictions!\n",
      "2019-02-23 17:38:34,476 -  ERROR  <DELL>: Not Enough In Sample Predictions!\n",
      "2019-02-23 17:38:35,240 -  ERROR  <FCPT>: Not Enough In Sample Predictions!\n",
      "2019-02-23 17:38:35,274 -  ERROR  <FDC>: Not Enough In Sample Predictions!\n",
      "2019-02-23 17:38:35,575 -  ERROR  <FTV>: Not Enough In Sample Predictions!\n",
      "2019-02-23 17:38:35,983 -  ERROR  <HPE>: Not Enough In Sample Predictions!\n",
      "2019-02-23 17:38:36,176 -  ERROR  <INFO>: Not Enough In Sample Predictions!\n",
      "2019-02-23 17:38:36,340 -  ERROR  <JBGS>: Not Enough In Sample Predictions!\n",
      "2019-02-23 17:38:36,517 -  ERROR  <KEYS>: Not Enough In Sample Predictions!\n",
      "2019-02-23 17:38:36,529 -  ERROR  <KHC>: Not Enough In Sample Predictions!\n",
      "2019-02-23 17:38:36,858 -  ERROR  <LW>: Not Enough In Sample Predictions!\n",
      "2019-02-23 17:38:37,363 -  ERROR  <NAVI>: Not Enough In Sample Predictions!\n",
      "2019-02-23 17:38:37,497 -  ERROR  <NGVT>: Not Enough In Sample Predictions!\n",
      "2019-02-23 17:38:38,150 -  ERROR  <PYPL>: Not Enough In Sample Predictions!\n",
      "2019-02-23 17:38:38,181 -  ERROR  <QRVO>: Not Enough In Sample Predictions!\n",
      "2019-02-23 17:38:38,997 -  ERROR  <SYF>: Not Enough In Sample Predictions!\n",
      "2019-02-23 17:38:39,747 -  ERROR  <VREX>: Not Enough In Sample Predictions!\n",
      "2019-02-23 17:38:39,808 -  ERROR  <VSM>: Not Enough In Sample Predictions!\n",
      "2019-02-23 17:38:40,029 -  ERROR  <WRK>: Not Enough In Sample Predictions!\n",
      "2019-02-23 17:38:40,191 -  ERROR  <YUMC>: Not Enough In Sample Predictions!\n",
      "\n",
      "2019-02-23 17:38:40,241 -  INFO   Task Finished: 624 Attempted and 27 Failed.\n"
     ]
    }
   ],
   "source": [
    "res_RR_daily = analyzers.Analyzer().analyze(\n",
    "    pred_path=RR_Prediction_Path,\n",
    "    train_periods=train_periods,\n",
    "    test_periods=test_periods,\n",
    "    rolling_metric='cum_abs_error',\n",
    "    task = task,\n",
    "    tickers = tickers,\n",
    "    folder = None,\n",
    "    freq = 'd',\n",
    "    forward_bars = forward_bars,\n",
    "    output_file=None)"
   ]
  },
  {
   "cell_type": "markdown",
   "metadata": {},
   "source": [
    "## Check RMSE per stock\n",
    "\n",
    "We noticed `GBM` model is in general better `RR` model in almost every quantile in terms of both RMSE and MAE. However, it's more sensitive to outliers and thus higher average performance metrics."
   ]
  },
  {
   "cell_type": "code",
   "execution_count": 6,
   "metadata": {
    "ExecuteTime": {
     "end_time": "2019-02-24T01:38:41.103404Z",
     "start_time": "2019-02-24T01:38:41.041657Z"
    }
   },
   "outputs": [
    {
     "data": {
      "text/html": [
       "<div>\n",
       "<style scoped>\n",
       "    .dataframe tbody tr th:only-of-type {\n",
       "        vertical-align: middle;\n",
       "    }\n",
       "\n",
       "    .dataframe tbody tr th {\n",
       "        vertical-align: top;\n",
       "    }\n",
       "\n",
       "    .dataframe thead th {\n",
       "        text-align: right;\n",
       "    }\n",
       "</style>\n",
       "<table border=\"1\" class=\"dataframe\">\n",
       "  <thead>\n",
       "    <tr style=\"text-align: right;\">\n",
       "      <th></th>\n",
       "      <th>RMSE</th>\n",
       "      <th>MAE</th>\n",
       "      <th>R2</th>\n",
       "      <th>SIZE</th>\n",
       "    </tr>\n",
       "  </thead>\n",
       "  <tbody>\n",
       "    <tr>\n",
       "      <th>count</th>\n",
       "      <td>597.000000</td>\n",
       "      <td>597.000000</td>\n",
       "      <td>597.000000</td>\n",
       "      <td>597.0</td>\n",
       "    </tr>\n",
       "    <tr>\n",
       "      <th>mean</th>\n",
       "      <td>1.678174</td>\n",
       "      <td>0.362995</td>\n",
       "      <td>-0.031780</td>\n",
       "      <td>1006.0</td>\n",
       "    </tr>\n",
       "    <tr>\n",
       "      <th>std</th>\n",
       "      <td>29.358962</td>\n",
       "      <td>8.640685</td>\n",
       "      <td>0.014943</td>\n",
       "      <td>0.0</td>\n",
       "    </tr>\n",
       "    <tr>\n",
       "      <th>min</th>\n",
       "      <td>0.008513</td>\n",
       "      <td>0.000000</td>\n",
       "      <td>-0.209786</td>\n",
       "      <td>1006.0</td>\n",
       "    </tr>\n",
       "    <tr>\n",
       "      <th>25%</th>\n",
       "      <td>0.013649</td>\n",
       "      <td>0.007072</td>\n",
       "      <td>-0.036908</td>\n",
       "      <td>1006.0</td>\n",
       "    </tr>\n",
       "    <tr>\n",
       "      <th>50%</th>\n",
       "      <td>0.016363</td>\n",
       "      <td>0.008223</td>\n",
       "      <td>-0.030819</td>\n",
       "      <td>1006.0</td>\n",
       "    </tr>\n",
       "    <tr>\n",
       "      <th>75%</th>\n",
       "      <td>0.020992</td>\n",
       "      <td>0.010306</td>\n",
       "      <td>-0.024566</td>\n",
       "      <td>1006.0</td>\n",
       "    </tr>\n",
       "    <tr>\n",
       "      <th>max</th>\n",
       "      <td>606.170409</td>\n",
       "      <td>211.132227</td>\n",
       "      <td>0.004660</td>\n",
       "      <td>1006.0</td>\n",
       "    </tr>\n",
       "  </tbody>\n",
       "</table>\n",
       "</div>"
      ],
      "text/plain": [
       "             RMSE         MAE          R2    SIZE\n",
       "count  597.000000  597.000000  597.000000   597.0\n",
       "mean     1.678174    0.362995   -0.031780  1006.0\n",
       "std     29.358962    8.640685    0.014943     0.0\n",
       "min      0.008513    0.000000   -0.209786  1006.0\n",
       "25%      0.013649    0.007072   -0.036908  1006.0\n",
       "50%      0.016363    0.008223   -0.030819  1006.0\n",
       "75%      0.020992    0.010306   -0.024566  1006.0\n",
       "max    606.170409  211.132227    0.004660  1006.0"
      ]
     },
     "execution_count": 6,
     "metadata": {},
     "output_type": "execute_result"
    }
   ],
   "source": [
    "res_RR_daily['Metrics_OOS'].describe()"
   ]
  },
  {
   "cell_type": "code",
   "execution_count": 7,
   "metadata": {
    "ExecuteTime": {
     "end_time": "2019-02-24T01:38:41.198942Z",
     "start_time": "2019-02-24T01:38:41.109375Z"
    }
   },
   "outputs": [
    {
     "data": {
      "text/html": [
       "<div>\n",
       "<style scoped>\n",
       "    .dataframe tbody tr th:only-of-type {\n",
       "        vertical-align: middle;\n",
       "    }\n",
       "\n",
       "    .dataframe tbody tr th {\n",
       "        vertical-align: top;\n",
       "    }\n",
       "\n",
       "    .dataframe thead th {\n",
       "        text-align: right;\n",
       "    }\n",
       "</style>\n",
       "<table border=\"1\" class=\"dataframe\">\n",
       "  <thead>\n",
       "    <tr style=\"text-align: right;\">\n",
       "      <th></th>\n",
       "      <th>RMSE</th>\n",
       "      <th>MAE</th>\n",
       "      <th>R2</th>\n",
       "      <th>SIZE</th>\n",
       "    </tr>\n",
       "  </thead>\n",
       "  <tbody>\n",
       "    <tr>\n",
       "      <th>count</th>\n",
       "      <td>597.000000</td>\n",
       "      <td>597.000000</td>\n",
       "      <td>597.000000</td>\n",
       "      <td>597.0</td>\n",
       "    </tr>\n",
       "    <tr>\n",
       "      <th>mean</th>\n",
       "      <td>54.228953</td>\n",
       "      <td>0.061653</td>\n",
       "      <td>-5.010244</td>\n",
       "      <td>1006.0</td>\n",
       "    </tr>\n",
       "    <tr>\n",
       "      <th>std</th>\n",
       "      <td>1309.240036</td>\n",
       "      <td>1.277741</td>\n",
       "      <td>121.695966</td>\n",
       "      <td>0.0</td>\n",
       "    </tr>\n",
       "    <tr>\n",
       "      <th>min</th>\n",
       "      <td>0.008454</td>\n",
       "      <td>0.000559</td>\n",
       "      <td>-2973.496631</td>\n",
       "      <td>1006.0</td>\n",
       "    </tr>\n",
       "    <tr>\n",
       "      <th>25%</th>\n",
       "      <td>0.013481</td>\n",
       "      <td>0.006979</td>\n",
       "      <td>-0.009350</td>\n",
       "      <td>1006.0</td>\n",
       "    </tr>\n",
       "    <tr>\n",
       "      <th>50%</th>\n",
       "      <td>0.016231</td>\n",
       "      <td>0.008142</td>\n",
       "      <td>-0.002577</td>\n",
       "      <td>1006.0</td>\n",
       "    </tr>\n",
       "    <tr>\n",
       "      <th>75%</th>\n",
       "      <td>0.021037</td>\n",
       "      <td>0.010302</td>\n",
       "      <td>-0.000553</td>\n",
       "      <td>1006.0</td>\n",
       "    </tr>\n",
       "    <tr>\n",
       "      <th>max</th>\n",
       "      <td>31987.867600</td>\n",
       "      <td>31.228981</td>\n",
       "      <td>0.008923</td>\n",
       "      <td>1006.0</td>\n",
       "    </tr>\n",
       "  </tbody>\n",
       "</table>\n",
       "</div>"
      ],
      "text/plain": [
       "               RMSE         MAE           R2    SIZE\n",
       "count    597.000000  597.000000   597.000000   597.0\n",
       "mean      54.228953    0.061653    -5.010244  1006.0\n",
       "std     1309.240036    1.277741   121.695966     0.0\n",
       "min        0.008454    0.000559 -2973.496631  1006.0\n",
       "25%        0.013481    0.006979    -0.009350  1006.0\n",
       "50%        0.016231    0.008142    -0.002577  1006.0\n",
       "75%        0.021037    0.010302    -0.000553  1006.0\n",
       "max    31987.867600   31.228981     0.008923  1006.0"
      ]
     },
     "execution_count": 7,
     "metadata": {},
     "output_type": "execute_result"
    }
   ],
   "source": [
    "res_gbm_daily['Metrics_OOS'].describe()"
   ]
  },
  {
   "cell_type": "markdown",
   "metadata": {},
   "source": [
    "## Identify Outliers\n",
    "\n",
    "We noticed the outliers are actually coming from `SAF` and `BHF` stocks, for now just exclude both of them from our samples!"
   ]
  },
  {
   "cell_type": "code",
   "execution_count": 8,
   "metadata": {
    "ExecuteTime": {
     "end_time": "2019-02-24T01:38:41.308221Z",
     "start_time": "2019-02-24T01:38:41.216237Z"
    }
   },
   "outputs": [
    {
     "data": {
      "text/html": [
       "<div>\n",
       "<style scoped>\n",
       "    .dataframe tbody tr th:only-of-type {\n",
       "        vertical-align: middle;\n",
       "    }\n",
       "\n",
       "    .dataframe tbody tr th {\n",
       "        vertical-align: top;\n",
       "    }\n",
       "\n",
       "    .dataframe thead th {\n",
       "        text-align: right;\n",
       "    }\n",
       "</style>\n",
       "<table border=\"1\" class=\"dataframe\">\n",
       "  <thead>\n",
       "    <tr style=\"text-align: right;\">\n",
       "      <th></th>\n",
       "      <th>RMSE</th>\n",
       "      <th>MAE</th>\n",
       "      <th>R2</th>\n",
       "      <th>SIZE</th>\n",
       "    </tr>\n",
       "  </thead>\n",
       "  <tbody>\n",
       "    <tr>\n",
       "      <th>SAF</th>\n",
       "      <td>606.170409</td>\n",
       "      <td>211.132227</td>\n",
       "      <td>-0.068150</td>\n",
       "      <td>1006</td>\n",
       "    </tr>\n",
       "    <tr>\n",
       "      <th>BHF</th>\n",
       "      <td>384.655553</td>\n",
       "      <td>0.015412</td>\n",
       "      <td>-0.048806</td>\n",
       "      <td>1006</td>\n",
       "    </tr>\n",
       "    <tr>\n",
       "      <th>IHRTQ</th>\n",
       "      <td>0.079043</td>\n",
       "      <td>0.031963</td>\n",
       "      <td>-0.023863</td>\n",
       "      <td>1006</td>\n",
       "    </tr>\n",
       "    <tr>\n",
       "      <th>DNR</th>\n",
       "      <td>0.061990</td>\n",
       "      <td>0.031813</td>\n",
       "      <td>-0.032598</td>\n",
       "      <td>1006</td>\n",
       "    </tr>\n",
       "    <tr>\n",
       "      <th>KODK</th>\n",
       "      <td>0.056224</td>\n",
       "      <td>0.018636</td>\n",
       "      <td>-0.017235</td>\n",
       "      <td>1006</td>\n",
       "    </tr>\n",
       "    <tr>\n",
       "      <th>CLF</th>\n",
       "      <td>0.051921</td>\n",
       "      <td>0.026767</td>\n",
       "      <td>-0.034512</td>\n",
       "      <td>1006</td>\n",
       "    </tr>\n",
       "    <tr>\n",
       "      <th>FOSL</th>\n",
       "      <td>0.048964</td>\n",
       "      <td>0.016467</td>\n",
       "      <td>-0.024453</td>\n",
       "      <td>1006</td>\n",
       "    </tr>\n",
       "    <tr>\n",
       "      <th>WFT</th>\n",
       "      <td>0.046256</td>\n",
       "      <td>0.022646</td>\n",
       "      <td>0.003890</td>\n",
       "      <td>1006</td>\n",
       "    </tr>\n",
       "    <tr>\n",
       "      <th>AMD</th>\n",
       "      <td>0.042426</td>\n",
       "      <td>0.020191</td>\n",
       "      <td>-0.026574</td>\n",
       "      <td>1006</td>\n",
       "    </tr>\n",
       "    <tr>\n",
       "      <th>BVSN</th>\n",
       "      <td>0.041750</td>\n",
       "      <td>0.015826</td>\n",
       "      <td>-0.008650</td>\n",
       "      <td>1006</td>\n",
       "    </tr>\n",
       "  </tbody>\n",
       "</table>\n",
       "</div>"
      ],
      "text/plain": [
       "             RMSE         MAE        R2  SIZE\n",
       "SAF    606.170409  211.132227 -0.068150  1006\n",
       "BHF    384.655553    0.015412 -0.048806  1006\n",
       "IHRTQ    0.079043    0.031963 -0.023863  1006\n",
       "DNR      0.061990    0.031813 -0.032598  1006\n",
       "KODK     0.056224    0.018636 -0.017235  1006\n",
       "CLF      0.051921    0.026767 -0.034512  1006\n",
       "FOSL     0.048964    0.016467 -0.024453  1006\n",
       "WFT      0.046256    0.022646  0.003890  1006\n",
       "AMD      0.042426    0.020191 -0.026574  1006\n",
       "BVSN     0.041750    0.015826 -0.008650  1006"
      ]
     },
     "execution_count": 8,
     "metadata": {},
     "output_type": "execute_result"
    }
   ],
   "source": [
    "res_RR_daily[\"Metrics_OOS\"].sort_values('RMSE', ascending=False).head(10)"
   ]
  },
  {
   "cell_type": "code",
   "execution_count": 9,
   "metadata": {
    "ExecuteTime": {
     "end_time": "2019-02-24T01:38:41.330668Z",
     "start_time": "2019-02-24T01:38:41.311391Z"
    }
   },
   "outputs": [
    {
     "data": {
      "text/html": [
       "<div>\n",
       "<style scoped>\n",
       "    .dataframe tbody tr th:only-of-type {\n",
       "        vertical-align: middle;\n",
       "    }\n",
       "\n",
       "    .dataframe tbody tr th {\n",
       "        vertical-align: top;\n",
       "    }\n",
       "\n",
       "    .dataframe thead th {\n",
       "        text-align: right;\n",
       "    }\n",
       "</style>\n",
       "<table border=\"1\" class=\"dataframe\">\n",
       "  <thead>\n",
       "    <tr style=\"text-align: right;\">\n",
       "      <th></th>\n",
       "      <th>RMSE</th>\n",
       "      <th>MAE</th>\n",
       "      <th>R2</th>\n",
       "      <th>SIZE</th>\n",
       "    </tr>\n",
       "  </thead>\n",
       "  <tbody>\n",
       "    <tr>\n",
       "      <th>SAF</th>\n",
       "      <td>31987.867600</td>\n",
       "      <td>31.228981</td>\n",
       "      <td>-2973.496631</td>\n",
       "      <td>1006</td>\n",
       "    </tr>\n",
       "    <tr>\n",
       "      <th>BHF</th>\n",
       "      <td>375.788944</td>\n",
       "      <td>0.060001</td>\n",
       "      <td>-0.001011</td>\n",
       "      <td>1006</td>\n",
       "    </tr>\n",
       "    <tr>\n",
       "      <th>IHRTQ</th>\n",
       "      <td>0.078448</td>\n",
       "      <td>0.030277</td>\n",
       "      <td>-0.008519</td>\n",
       "      <td>1006</td>\n",
       "    </tr>\n",
       "    <tr>\n",
       "      <th>DNR</th>\n",
       "      <td>0.061011</td>\n",
       "      <td>0.030138</td>\n",
       "      <td>-0.000223</td>\n",
       "      <td>1006</td>\n",
       "    </tr>\n",
       "    <tr>\n",
       "      <th>KODK</th>\n",
       "      <td>0.058114</td>\n",
       "      <td>0.022037</td>\n",
       "      <td>-0.086791</td>\n",
       "      <td>1006</td>\n",
       "    </tr>\n",
       "    <tr>\n",
       "      <th>CLF</th>\n",
       "      <td>0.051039</td>\n",
       "      <td>0.025787</td>\n",
       "      <td>0.000327</td>\n",
       "      <td>1006</td>\n",
       "    </tr>\n",
       "    <tr>\n",
       "      <th>FOSL</th>\n",
       "      <td>0.048424</td>\n",
       "      <td>0.016517</td>\n",
       "      <td>-0.002013</td>\n",
       "      <td>1006</td>\n",
       "    </tr>\n",
       "    <tr>\n",
       "      <th>WFT</th>\n",
       "      <td>0.046303</td>\n",
       "      <td>0.022267</td>\n",
       "      <td>0.001871</td>\n",
       "      <td>1006</td>\n",
       "    </tr>\n",
       "    <tr>\n",
       "      <th>FNMA</th>\n",
       "      <td>0.042895</td>\n",
       "      <td>0.015793</td>\n",
       "      <td>-0.093642</td>\n",
       "      <td>1006</td>\n",
       "    </tr>\n",
       "    <tr>\n",
       "      <th>AMD</th>\n",
       "      <td>0.042171</td>\n",
       "      <td>0.019971</td>\n",
       "      <td>-0.014281</td>\n",
       "      <td>1006</td>\n",
       "    </tr>\n",
       "  </tbody>\n",
       "</table>\n",
       "</div>"
      ],
      "text/plain": [
       "               RMSE        MAE           R2  SIZE\n",
       "SAF    31987.867600  31.228981 -2973.496631  1006\n",
       "BHF      375.788944   0.060001    -0.001011  1006\n",
       "IHRTQ      0.078448   0.030277    -0.008519  1006\n",
       "DNR        0.061011   0.030138    -0.000223  1006\n",
       "KODK       0.058114   0.022037    -0.086791  1006\n",
       "CLF        0.051039   0.025787     0.000327  1006\n",
       "FOSL       0.048424   0.016517    -0.002013  1006\n",
       "WFT        0.046303   0.022267     0.001871  1006\n",
       "FNMA       0.042895   0.015793    -0.093642  1006\n",
       "AMD        0.042171   0.019971    -0.014281  1006"
      ]
     },
     "execution_count": 9,
     "metadata": {},
     "output_type": "execute_result"
    }
   ],
   "source": [
    "res_gbm_daily[\"Metrics_OOS\"].sort_values('RMSE', ascending=False).head(10)"
   ]
  },
  {
   "cell_type": "code",
   "execution_count": 10,
   "metadata": {
    "ExecuteTime": {
     "end_time": "2019-02-24T01:38:41.342050Z",
     "start_time": "2019-02-24T01:38:41.334485Z"
    }
   },
   "outputs": [],
   "source": [
    "oos_gbm = res_gbm_daily[\"Metrics_OOS\"][~res_gbm_daily[\"Metrics_OOS\"].index.isin(outliers)]\n",
    "oos_rr = res_RR_daily[\"Metrics_OOS\"][~res_RR_daily[\"Metrics_OOS\"].index.isin(outliers)]"
   ]
  },
  {
   "cell_type": "markdown",
   "metadata": {
    "ExecuteTime": {
     "end_time": "2019-02-19T13:30:20.889507Z",
     "start_time": "2019-02-19T13:23:34.061Z"
    }
   },
   "source": [
    "## Visualize Results"
   ]
  },
  {
   "cell_type": "code",
   "execution_count": 11,
   "metadata": {
    "ExecuteTime": {
     "end_time": "2019-02-24T01:38:41.990496Z",
     "start_time": "2019-02-24T01:38:41.345637Z"
    }
   },
   "outputs": [
    {
     "data": {
      "text/plain": [
       "<matplotlib.legend.Legend at 0x1c1c320da0>"
      ]
     },
     "execution_count": 11,
     "metadata": {},
     "output_type": "execute_result"
    },
    {
     "data": {
      "image/png": "[encoded data removed]",
      "text/plain": [
       "<Figure size 1008x360 with 2 Axes>"
      ]
     },
     "metadata": {
      "needs_background": "light"
     },
     "output_type": "display_data"
    }
   ],
   "source": [
    "fig, ax = plt.subplots(1,2, figsize=(14,5))\n",
    "\n",
    "rmse_rr = oos_rr['RMSE']\n",
    "rmse_rr.hist(ax=ax[0], bins=30)\n",
    "ax[0].set_title(\"RR: %s RMSE (2015 - 2018)\" % return_type, fontweight=700)\n",
    "ax[0].axvline(rmse_rr.mean(), color='red', label=\"Average RMSE\")\n",
    "ax[0].annotate('%.5f' % rmse_rr.mean(), xy=(rmse_rr.mean(), 0), \n",
    "               xytext=(2, 2), textcoords='offset points',color='w')\n",
    "ax[0].legend()\n",
    "\n",
    "rmse_gbm = oos_gbm['RMSE']\n",
    "rmse_gbm.hist(ax=ax[1], bins=30, color='green')\n",
    "ax[1].set_title(\"GBM: %s RMSE (2015 - 2018)\" % return_type, fontweight=700)\n",
    "ax[1].axvline(rmse_gbm.mean(), color='red', label=\"Average RMSE\")\n",
    "ax[1].annotate('%.5f' % rmse_gbm.mean(), xy=(rmse_gbm.mean(), 0), \n",
    "               xytext=(2, 2), textcoords='offset points',color='w')\n",
    "ax[1].legend()"
   ]
  },
  {
   "cell_type": "code",
   "execution_count": 17,
   "metadata": {
    "ExecuteTime": {
     "end_time": "2019-02-24T01:41:19.412073Z",
     "start_time": "2019-02-24T01:41:19.097742Z"
    }
   },
   "outputs": [
    {
     "data": {
      "text/plain": [
       "<matplotlib.legend.Legend at 0x1c1b586eb8>"
      ]
     },
     "execution_count": 17,
     "metadata": {},
     "output_type": "execute_result"
    },
    {
     "data": {
      "image/png": "[encoded data removed]",
      "text/plain": [
       "<Figure size 720x288 with 1 Axes>"
      ]
     },
     "metadata": {
      "needs_background": "light"
     },
     "output_type": "display_data"
    }
   ],
   "source": [
    "rolling_gbm = res_gbm_daily[\"Rolling_OOS\"].drop(outliers, axis=1)\n",
    "rolling_rr = res_RR_daily[\"Rolling_OOS\"].drop(outliers, axis=1)\n",
    "fig, ax = plt.subplots(1,1, figsize=(10,4))\n",
    "\n",
    "ax.set_title('Cumulative Average MAE Over Time', fontweight=700)\n",
    "\n",
    "l1, = ax.plot(rolling_rr.mean(1))\n",
    "l2, = ax.plot(rolling_gbm.mean(1), color='green')\n",
    "\n",
    "ax.legend((l1, l2), ('RR %s' % return_type, 'GBM %s' % return_type))"
   ]
  }
 ],
 "metadata": {
  "hide_input": false,
  "kernelspec": {
   "display_name": "Python [conda env:afp_forecast]",
   "language": "python",
   "name": "conda-env-afp_forecast-py"
  },
  "language_info": {
   "codemirror_mode": {
    "name": "ipython",
    "version": 3
   },
   "file_extension": ".py",
   "mimetype": "text/x-python",
   "name": "python",
   "nbconvert_exporter": "python",
   "pygments_lexer": "ipython3",
   "version": "3.6.8"
  },
  "toc": {
   "base_numbering": 1,
   "nav_menu": {},
   "number_sections": false,
   "sideBar": true,
   "skip_h1_title": false,
   "title_cell": "Table of Contents",
   "title_sidebar": "Contents",
   "toc_cell": false,
   "toc_position": {},
   "toc_section_display": true,
   "toc_window_display": false
  }
 },
 "nbformat": 4,
 "nbformat_minor": 2
}
