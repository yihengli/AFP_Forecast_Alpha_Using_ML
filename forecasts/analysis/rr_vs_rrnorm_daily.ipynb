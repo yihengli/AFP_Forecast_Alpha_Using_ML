{
 "cells": [
  {
   "cell_type": "code",
   "execution_count": 1,
   "metadata": {
    "ExecuteTime": {
     "end_time": "2019-02-26T06:39:59.831427Z",
     "start_time": "2019-02-26T06:39:59.758229Z"
    }
   },
   "outputs": [],
   "source": [
    "%load_ext autoreload\n",
    "%autoreload 1"
   ]
  },
  {
   "cell_type": "code",
   "execution_count": 2,
   "metadata": {
    "ExecuteTime": {
     "end_time": "2019-02-26T06:40:01.488638Z",
     "start_time": "2019-02-26T06:40:00.014543Z"
    }
   },
   "outputs": [],
   "source": [
    "import os\n",
    "import sys\n",
    "sys.path.append(os.path.abspath('..'))\n",
    "\n",
    "import pandas as pd\n",
    "import numpy as np\n",
    "import matplotlib as mpl\n",
    "import matplotlib.pyplot as plt\n",
    "from pandas.plotting import register_matplotlib_converters\n",
    "register_matplotlib_converters()\n",
    "\n",
    "%aimport analyzers\n",
    "%aimport processor\n",
    "%aimport utils\n",
    "%aimport forecast\n",
    "%aimport models\n",
    "\n",
    "plt.style.use('seaborn')\n",
    "mpl.rcParams['legend.frameon'] = True\n",
    "mpl.rcParams['legend.facecolor'] = 'w'"
   ]
  },
  {
   "cell_type": "markdown",
   "metadata": {},
   "source": [
    "## Set up global parameters"
   ]
  },
  {
   "cell_type": "code",
   "execution_count": 8,
   "metadata": {
    "ExecuteTime": {
     "end_time": "2019-02-26T06:41:43.892918Z",
     "start_time": "2019-02-26T06:41:43.885971Z"
    }
   },
   "outputs": [],
   "source": [
    "# Predictions Locations\n",
    "prediction_folder = 'C:/Users/l5453/GoogleDrive/GroupWorks/Term4-AFP/forecasts/Predictions'\n",
    "RR_Prediction_Path = os.path.join(prediction_folder, 'RR_daily.csv')\n",
    "RR_Norm_Prediction_Path = os.path.join(prediction_folder, 'RR_daily_norm.csv')\n",
    "\n",
    "# Analyzer Arguments\n",
    "task = 'yahoo'\n",
    "tickers = processor.YahooProcessor.get_all_tickers()\n",
    "folder = None\n",
    "freq = 'd'\n",
    "fromdate = '2000-01-01'\n",
    "todate = '2018-12-31'\n",
    "forward_bars = 0\n",
    "train_periods = ('2000-01-01', '2014-12-31')\n",
    "test_periods = ('2015-01-01', '2018-12-31')\n",
    "\n",
    "# Outlier Stocks\n",
    "outliers = ['SAF', 'BHF']\n",
    "\n",
    "# Plot Arguments\n",
    "return_type = 'Daily Returns'"
   ]
  },
  {
   "cell_type": "markdown",
   "metadata": {},
   "source": [
    "## Calculate RMSE etc. performance metrics"
   ]
  },
  {
   "cell_type": "code",
   "execution_count": 13,
   "metadata": {
    "ExecuteTime": {
     "end_time": "2019-02-26T06:43:28.665186Z",
     "start_time": "2019-02-26T06:43:12.735175Z"
    },
    "scrolled": true
   },
   "outputs": [
    {
     "name": "stdout",
     "output_type": "stream",
     "text": [
      "2019-02-25 22:43:12,737 -  INFO   Loading Yahoo Labels...\n"
     ]
    },
    {
     "data": {
      "application/vnd.jupyter.widget-view+json": {
       "model_id": "b5abaefc6aef4cd3af1b8a0d4500b6b0",
       "version_major": 2,
       "version_minor": 0
      },
      "text/plain": [
       "HBox(children=(IntProgress(value=0, max=638), HTML(value='')))"
      ]
     },
     "metadata": {},
     "output_type": "display_data"
    },
    {
     "name": "stdout",
     "output_type": "stream",
     "text": [
      "\n",
      "2019-02-25 22:43:22,092 -  INFO   Loading Predictions Files From C:/Users/l5453/GoogleDrive/GroupWorks/Term4-AFP/forecasts/Predictions\\RR_daily_norm.csv\n"
     ]
    },
    {
     "data": {
      "application/vnd.jupyter.widget-view+json": {
       "model_id": "e1c29b6f4e334410bf2823ea573bc7b1",
       "version_major": 2,
       "version_minor": 0
      },
      "text/plain": [
       "HBox(children=(IntProgress(value=0, max=624), HTML(value='')))"
      ]
     },
     "metadata": {},
     "output_type": "display_data"
    },
    {
     "name": "stdout",
     "output_type": "stream",
     "text": [
      "2019-02-25 22:43:22,933 -  ERROR  <ADNT>: Not Enough In Sample Predictions!\n",
      "2019-02-25 22:43:23,197 -  ERROR  <ANET>: Not Enough In Sample Predictions!\n",
      "2019-02-25 22:43:23,321 -  ERROR  <ASIX>: Not Enough In Sample Predictions!\n",
      "2019-02-25 22:43:23,348 -  ERROR  <ATUS>: Not Enough In Sample Predictions!\n",
      "2019-02-25 22:43:23,629 -  ERROR  <BTU>: Not Enough In Sample Predictions!\n",
      "2019-02-25 22:43:23,700 -  ERROR  <CARS>: Not Enough In Sample Predictions!\n",
      "2019-02-25 22:43:23,813 -  ERROR  <CFG>: Not Enough In Sample Predictions!\n",
      "2019-02-25 22:43:23,967 -  ERROR  <CNDT>: Not Enough In Sample Predictions!\n",
      "2019-02-25 22:43:24,228 -  ERROR  <DELL>: Not Enough In Sample Predictions!\n",
      "2019-02-25 22:43:24,725 -  ERROR  <FCPT>: Not Enough In Sample Predictions!\n",
      "2019-02-25 22:43:24,744 -  ERROR  <FDC>: Not Enough In Sample Predictions!\n",
      "2019-02-25 22:43:25,014 -  ERROR  <FTV>: Not Enough In Sample Predictions!\n",
      "2019-02-25 22:43:25,319 -  ERROR  <HPE>: Not Enough In Sample Predictions!\n",
      "2019-02-25 22:43:25,470 -  ERROR  <INFO>: Not Enough In Sample Predictions!\n",
      "2019-02-25 22:43:25,596 -  ERROR  <JBGS>: Not Enough In Sample Predictions!\n",
      "2019-02-25 22:43:25,747 -  ERROR  <KEYS>: Not Enough In Sample Predictions!\n",
      "2019-02-25 22:43:25,758 -  ERROR  <KHC>: Not Enough In Sample Predictions!\n",
      "2019-02-25 22:43:26,003 -  ERROR  <LW>: Not Enough In Sample Predictions!\n",
      "2019-02-25 22:43:26,396 -  ERROR  <NAVI>: Not Enough In Sample Predictions!\n",
      "2019-02-25 22:43:26,493 -  ERROR  <NGVT>: Not Enough In Sample Predictions!\n",
      "2019-02-25 22:43:27,012 -  ERROR  <PYPL>: Not Enough In Sample Predictions!\n",
      "2019-02-25 22:43:27,030 -  ERROR  <QRVO>: Not Enough In Sample Predictions!\n",
      "2019-02-25 22:43:27,511 -  ERROR  <SYF>: Not Enough In Sample Predictions!\n",
      "2019-02-25 22:43:28,023 -  ERROR  <VREX>: Not Enough In Sample Predictions!\n",
      "2019-02-25 22:43:28,058 -  ERROR  <VSM>: Not Enough In Sample Predictions!\n",
      "2019-02-25 22:43:28,228 -  ERROR  <WRK>: Not Enough In Sample Predictions!\n",
      "2019-02-25 22:43:28,351 -  ERROR  <YUMC>: Not Enough In Sample Predictions!\n",
      "\n",
      "2019-02-25 22:43:28,385 -  INFO   Task Finished: 624 Attempted and 27 Failed.\n"
     ]
    }
   ],
   "source": [
    "res_rrnorm_daily = analyzers.Analyzer().analyze(\n",
    "    pred_path=RR_Norm_Prediction_Path,\n",
    "    train_periods=train_periods,\n",
    "    test_periods=test_periods,\n",
    "    rolling_metric='cum_abs_error',\n",
    "    task = task,\n",
    "    tickers = tickers,\n",
    "    folder = None,\n",
    "    freq = 'd',\n",
    "    forward_bars = forward_bars,\n",
    "    output_file=None)"
   ]
  },
  {
   "cell_type": "code",
   "execution_count": 14,
   "metadata": {
    "ExecuteTime": {
     "end_time": "2019-02-26T06:43:48.715190Z",
     "start_time": "2019-02-26T06:43:33.509862Z"
    },
    "scrolled": true
   },
   "outputs": [
    {
     "name": "stdout",
     "output_type": "stream",
     "text": [
      "2019-02-25 22:43:33,512 -  INFO   Loading Yahoo Labels...\n"
     ]
    },
    {
     "data": {
      "application/vnd.jupyter.widget-view+json": {
       "model_id": "23e2b1c1ebaa4feb9227b4bfea2e2df2",
       "version_major": 2,
       "version_minor": 0
      },
      "text/plain": [
       "HBox(children=(IntProgress(value=0, max=638), HTML(value='')))"
      ]
     },
     "metadata": {},
     "output_type": "display_data"
    },
    {
     "name": "stdout",
     "output_type": "stream",
     "text": [
      "\n",
      "2019-02-25 22:43:42,209 -  INFO   Loading Predictions Files From C:/Users/l5453/GoogleDrive/GroupWorks/Term4-AFP/forecasts/Predictions\\RR_daily.csv\n"
     ]
    },
    {
     "data": {
      "application/vnd.jupyter.widget-view+json": {
       "model_id": "6fcb71d2459d435f97ed33d499669668",
       "version_major": 2,
       "version_minor": 0
      },
      "text/plain": [
       "HBox(children=(IntProgress(value=0, max=624), HTML(value='')))"
      ]
     },
     "metadata": {},
     "output_type": "display_data"
    },
    {
     "name": "stdout",
     "output_type": "stream",
     "text": [
      "2019-02-25 22:43:43,055 -  ERROR  <ADNT>: Not Enough In Sample Predictions!\n",
      "2019-02-25 22:43:43,319 -  ERROR  <ANET>: Not Enough In Sample Predictions!\n",
      "2019-02-25 22:43:43,439 -  ERROR  <ASIX>: Not Enough In Sample Predictions!\n",
      "2019-02-25 22:43:43,469 -  ERROR  <ATUS>: Not Enough In Sample Predictions!\n",
      "2019-02-25 22:43:43,746 -  ERROR  <BTU>: Not Enough In Sample Predictions!\n",
      "2019-02-25 22:43:43,817 -  ERROR  <CARS>: Not Enough In Sample Predictions!\n",
      "2019-02-25 22:43:43,929 -  ERROR  <CFG>: Not Enough In Sample Predictions!\n",
      "2019-02-25 22:43:44,083 -  ERROR  <CNDT>: Not Enough In Sample Predictions!\n",
      "2019-02-25 22:43:44,348 -  ERROR  <DELL>: Not Enough In Sample Predictions!\n",
      "2019-02-25 22:43:44,845 -  ERROR  <FCPT>: Not Enough In Sample Predictions!\n",
      "2019-02-25 22:43:44,864 -  ERROR  <FDC>: Not Enough In Sample Predictions!\n",
      "2019-02-25 22:43:45,076 -  ERROR  <FTV>: Not Enough In Sample Predictions!\n",
      "2019-02-25 22:43:45,373 -  ERROR  <HPE>: Not Enough In Sample Predictions!\n",
      "2019-02-25 22:43:45,520 -  ERROR  <INFO>: Not Enough In Sample Predictions!\n",
      "2019-02-25 22:43:45,641 -  ERROR  <JBGS>: Not Enough In Sample Predictions!\n",
      "2019-02-25 22:43:45,776 -  ERROR  <KEYS>: Not Enough In Sample Predictions!\n",
      "2019-02-25 22:43:45,785 -  ERROR  <KHC>: Not Enough In Sample Predictions!\n",
      "2019-02-25 22:43:46,029 -  ERROR  <LW>: Not Enough In Sample Predictions!\n",
      "2019-02-25 22:43:46,422 -  ERROR  <NAVI>: Not Enough In Sample Predictions!\n",
      "2019-02-25 22:43:46,519 -  ERROR  <NGVT>: Not Enough In Sample Predictions!\n",
      "2019-02-25 22:43:47,018 -  ERROR  <PYPL>: Not Enough In Sample Predictions!\n",
      "2019-02-25 22:43:47,041 -  ERROR  <QRVO>: Not Enough In Sample Predictions!\n",
      "2019-02-25 22:43:47,522 -  ERROR  <SYF>: Not Enough In Sample Predictions!\n",
      "2019-02-25 22:43:48,026 -  ERROR  <VREX>: Not Enough In Sample Predictions!\n",
      "2019-02-25 22:43:48,061 -  ERROR  <VSM>: Not Enough In Sample Predictions!\n",
      "2019-02-25 22:43:48,237 -  ERROR  <WRK>: Not Enough In Sample Predictions!\n",
      "2019-02-25 22:43:48,362 -  ERROR  <YUMC>: Not Enough In Sample Predictions!\n",
      "\n",
      "2019-02-25 22:43:48,398 -  INFO   Task Finished: 624 Attempted and 27 Failed.\n"
     ]
    }
   ],
   "source": [
    "res_RR_daily = analyzers.Analyzer().analyze(\n",
    "    pred_path=RR_Prediction_Path,\n",
    "    train_periods=train_periods,\n",
    "    test_periods=test_periods,\n",
    "    rolling_metric='cum_abs_error',\n",
    "    task = task,\n",
    "    tickers = tickers,\n",
    "    folder = None,\n",
    "    freq = 'd',\n",
    "    forward_bars = forward_bars,\n",
    "    output_file=None)"
   ]
  },
  {
   "cell_type": "markdown",
   "metadata": {},
   "source": [
    "## Check RMSE per stock\n",
    "\n",
    "We noticed `GBM` model is in general better `RR` model in almost every quantile in terms of both RMSE and MAE. However, it's more sensitive to outliers and thus higher average performance metrics."
   ]
  },
  {
   "cell_type": "code",
   "execution_count": 15,
   "metadata": {
    "ExecuteTime": {
     "end_time": "2019-02-26T06:43:50.327273Z",
     "start_time": "2019-02-26T06:43:50.300344Z"
    }
   },
   "outputs": [
    {
     "data": {
      "text/html": [
       "<div>\n",
       "<style scoped>\n",
       "    .dataframe tbody tr th:only-of-type {\n",
       "        vertical-align: middle;\n",
       "    }\n",
       "\n",
       "    .dataframe tbody tr th {\n",
       "        vertical-align: top;\n",
       "    }\n",
       "\n",
       "    .dataframe thead th {\n",
       "        text-align: right;\n",
       "    }\n",
       "</style>\n",
       "<table border=\"1\" class=\"dataframe\">\n",
       "  <thead>\n",
       "    <tr style=\"text-align: right;\">\n",
       "      <th></th>\n",
       "      <th>RMSE</th>\n",
       "      <th>MAE</th>\n",
       "      <th>R2</th>\n",
       "      <th>SIZE</th>\n",
       "    </tr>\n",
       "  </thead>\n",
       "  <tbody>\n",
       "    <tr>\n",
       "      <th>count</th>\n",
       "      <td>597.000000</td>\n",
       "      <td>597.000000</td>\n",
       "      <td>597.000000</td>\n",
       "      <td>597.0</td>\n",
       "    </tr>\n",
       "    <tr>\n",
       "      <th>mean</th>\n",
       "      <td>1.678174</td>\n",
       "      <td>0.362995</td>\n",
       "      <td>-0.031780</td>\n",
       "      <td>1006.0</td>\n",
       "    </tr>\n",
       "    <tr>\n",
       "      <th>std</th>\n",
       "      <td>29.358962</td>\n",
       "      <td>8.640685</td>\n",
       "      <td>0.014943</td>\n",
       "      <td>0.0</td>\n",
       "    </tr>\n",
       "    <tr>\n",
       "      <th>min</th>\n",
       "      <td>0.008513</td>\n",
       "      <td>0.000000</td>\n",
       "      <td>-0.209786</td>\n",
       "      <td>1006.0</td>\n",
       "    </tr>\n",
       "    <tr>\n",
       "      <th>25%</th>\n",
       "      <td>0.013649</td>\n",
       "      <td>0.007072</td>\n",
       "      <td>-0.036908</td>\n",
       "      <td>1006.0</td>\n",
       "    </tr>\n",
       "    <tr>\n",
       "      <th>50%</th>\n",
       "      <td>0.016363</td>\n",
       "      <td>0.008223</td>\n",
       "      <td>-0.030819</td>\n",
       "      <td>1006.0</td>\n",
       "    </tr>\n",
       "    <tr>\n",
       "      <th>75%</th>\n",
       "      <td>0.020992</td>\n",
       "      <td>0.010306</td>\n",
       "      <td>-0.024566</td>\n",
       "      <td>1006.0</td>\n",
       "    </tr>\n",
       "    <tr>\n",
       "      <th>max</th>\n",
       "      <td>606.170409</td>\n",
       "      <td>211.132227</td>\n",
       "      <td>0.004660</td>\n",
       "      <td>1006.0</td>\n",
       "    </tr>\n",
       "  </tbody>\n",
       "</table>\n",
       "</div>"
      ],
      "text/plain": [
       "             RMSE         MAE          R2    SIZE\n",
       "count  597.000000  597.000000  597.000000   597.0\n",
       "mean     1.678174    0.362995   -0.031780  1006.0\n",
       "std     29.358962    8.640685    0.014943     0.0\n",
       "min      0.008513    0.000000   -0.209786  1006.0\n",
       "25%      0.013649    0.007072   -0.036908  1006.0\n",
       "50%      0.016363    0.008223   -0.030819  1006.0\n",
       "75%      0.020992    0.010306   -0.024566  1006.0\n",
       "max    606.170409  211.132227    0.004660  1006.0"
      ]
     },
     "execution_count": 15,
     "metadata": {},
     "output_type": "execute_result"
    }
   ],
   "source": [
    "res_RR_daily['Metrics_OOS'].describe()"
   ]
  },
  {
   "cell_type": "code",
   "execution_count": 16,
   "metadata": {
    "ExecuteTime": {
     "end_time": "2019-02-26T06:43:50.979603Z",
     "start_time": "2019-02-26T06:43:50.956664Z"
    }
   },
   "outputs": [
    {
     "data": {
      "text/html": [
       "<div>\n",
       "<style scoped>\n",
       "    .dataframe tbody tr th:only-of-type {\n",
       "        vertical-align: middle;\n",
       "    }\n",
       "\n",
       "    .dataframe tbody tr th {\n",
       "        vertical-align: top;\n",
       "    }\n",
       "\n",
       "    .dataframe thead th {\n",
       "        text-align: right;\n",
       "    }\n",
       "</style>\n",
       "<table border=\"1\" class=\"dataframe\">\n",
       "  <thead>\n",
       "    <tr style=\"text-align: right;\">\n",
       "      <th></th>\n",
       "      <th>RMSE</th>\n",
       "      <th>MAE</th>\n",
       "      <th>R2</th>\n",
       "      <th>SIZE</th>\n",
       "    </tr>\n",
       "  </thead>\n",
       "  <tbody>\n",
       "    <tr>\n",
       "      <th>count</th>\n",
       "      <td>597.000000</td>\n",
       "      <td>597.000000</td>\n",
       "      <td>597.000000</td>\n",
       "      <td>597.0</td>\n",
       "    </tr>\n",
       "    <tr>\n",
       "      <th>mean</th>\n",
       "      <td>1.691103</td>\n",
       "      <td>0.195256</td>\n",
       "      <td>-0.026108</td>\n",
       "      <td>1006.0</td>\n",
       "    </tr>\n",
       "    <tr>\n",
       "      <th>std</th>\n",
       "      <td>29.670519</td>\n",
       "      <td>4.541480</td>\n",
       "      <td>0.015305</td>\n",
       "      <td>0.0</td>\n",
       "    </tr>\n",
       "    <tr>\n",
       "      <th>min</th>\n",
       "      <td>0.008486</td>\n",
       "      <td>0.000000</td>\n",
       "      <td>-0.154966</td>\n",
       "      <td>1006.0</td>\n",
       "    </tr>\n",
       "    <tr>\n",
       "      <th>25%</th>\n",
       "      <td>0.013570</td>\n",
       "      <td>0.007153</td>\n",
       "      <td>-0.029066</td>\n",
       "      <td>1006.0</td>\n",
       "    </tr>\n",
       "    <tr>\n",
       "      <th>50%</th>\n",
       "      <td>0.016370</td>\n",
       "      <td>0.008243</td>\n",
       "      <td>-0.023783</td>\n",
       "      <td>1006.0</td>\n",
       "    </tr>\n",
       "    <tr>\n",
       "      <th>75%</th>\n",
       "      <td>0.021031</td>\n",
       "      <td>0.010347</td>\n",
       "      <td>-0.019017</td>\n",
       "      <td>1006.0</td>\n",
       "    </tr>\n",
       "    <tr>\n",
       "      <th>max</th>\n",
       "      <td>617.222100</td>\n",
       "      <td>110.973974</td>\n",
       "      <td>-0.000006</td>\n",
       "      <td>1006.0</td>\n",
       "    </tr>\n",
       "  </tbody>\n",
       "</table>\n",
       "</div>"
      ],
      "text/plain": [
       "             RMSE         MAE          R2    SIZE\n",
       "count  597.000000  597.000000  597.000000   597.0\n",
       "mean     1.691103    0.195256   -0.026108  1006.0\n",
       "std     29.670519    4.541480    0.015305     0.0\n",
       "min      0.008486    0.000000   -0.154966  1006.0\n",
       "25%      0.013570    0.007153   -0.029066  1006.0\n",
       "50%      0.016370    0.008243   -0.023783  1006.0\n",
       "75%      0.021031    0.010347   -0.019017  1006.0\n",
       "max    617.222100  110.973974   -0.000006  1006.0"
      ]
     },
     "execution_count": 16,
     "metadata": {},
     "output_type": "execute_result"
    }
   ],
   "source": [
    "res_rrnorm_daily['Metrics_OOS'].describe()"
   ]
  },
  {
   "cell_type": "markdown",
   "metadata": {},
   "source": [
    "## Identify Outliers\n",
    "\n",
    "We noticed the outliers are actually coming from `SAF` and `BHF` stocks, for now just exclude both of them from our samples!"
   ]
  },
  {
   "cell_type": "code",
   "execution_count": 17,
   "metadata": {
    "ExecuteTime": {
     "end_time": "2019-02-26T06:44:06.523111Z",
     "start_time": "2019-02-26T06:44:06.511143Z"
    }
   },
   "outputs": [
    {
     "data": {
      "text/html": [
       "<div>\n",
       "<style scoped>\n",
       "    .dataframe tbody tr th:only-of-type {\n",
       "        vertical-align: middle;\n",
       "    }\n",
       "\n",
       "    .dataframe tbody tr th {\n",
       "        vertical-align: top;\n",
       "    }\n",
       "\n",
       "    .dataframe thead th {\n",
       "        text-align: right;\n",
       "    }\n",
       "</style>\n",
       "<table border=\"1\" class=\"dataframe\">\n",
       "  <thead>\n",
       "    <tr style=\"text-align: right;\">\n",
       "      <th></th>\n",
       "      <th>RMSE</th>\n",
       "      <th>MAE</th>\n",
       "      <th>R2</th>\n",
       "      <th>SIZE</th>\n",
       "    </tr>\n",
       "  </thead>\n",
       "  <tbody>\n",
       "    <tr>\n",
       "      <th>SAF</th>\n",
       "      <td>606.170409</td>\n",
       "      <td>211.132227</td>\n",
       "      <td>-0.068150</td>\n",
       "      <td>1006</td>\n",
       "    </tr>\n",
       "    <tr>\n",
       "      <th>BHF</th>\n",
       "      <td>384.655553</td>\n",
       "      <td>0.015412</td>\n",
       "      <td>-0.048806</td>\n",
       "      <td>1006</td>\n",
       "    </tr>\n",
       "    <tr>\n",
       "      <th>IHRTQ</th>\n",
       "      <td>0.079043</td>\n",
       "      <td>0.031963</td>\n",
       "      <td>-0.023863</td>\n",
       "      <td>1006</td>\n",
       "    </tr>\n",
       "    <tr>\n",
       "      <th>DNR</th>\n",
       "      <td>0.061990</td>\n",
       "      <td>0.031813</td>\n",
       "      <td>-0.032598</td>\n",
       "      <td>1006</td>\n",
       "    </tr>\n",
       "    <tr>\n",
       "      <th>KODK</th>\n",
       "      <td>0.056224</td>\n",
       "      <td>0.018636</td>\n",
       "      <td>-0.017235</td>\n",
       "      <td>1006</td>\n",
       "    </tr>\n",
       "    <tr>\n",
       "      <th>CLF</th>\n",
       "      <td>0.051921</td>\n",
       "      <td>0.026767</td>\n",
       "      <td>-0.034512</td>\n",
       "      <td>1006</td>\n",
       "    </tr>\n",
       "    <tr>\n",
       "      <th>FOSL</th>\n",
       "      <td>0.048964</td>\n",
       "      <td>0.016467</td>\n",
       "      <td>-0.024453</td>\n",
       "      <td>1006</td>\n",
       "    </tr>\n",
       "    <tr>\n",
       "      <th>WFT</th>\n",
       "      <td>0.046256</td>\n",
       "      <td>0.022646</td>\n",
       "      <td>0.003890</td>\n",
       "      <td>1006</td>\n",
       "    </tr>\n",
       "    <tr>\n",
       "      <th>AMD</th>\n",
       "      <td>0.042426</td>\n",
       "      <td>0.020191</td>\n",
       "      <td>-0.026574</td>\n",
       "      <td>1006</td>\n",
       "    </tr>\n",
       "    <tr>\n",
       "      <th>BVSN</th>\n",
       "      <td>0.041750</td>\n",
       "      <td>0.015826</td>\n",
       "      <td>-0.008650</td>\n",
       "      <td>1006</td>\n",
       "    </tr>\n",
       "  </tbody>\n",
       "</table>\n",
       "</div>"
      ],
      "text/plain": [
       "             RMSE         MAE        R2  SIZE\n",
       "SAF    606.170409  211.132227 -0.068150  1006\n",
       "BHF    384.655553    0.015412 -0.048806  1006\n",
       "IHRTQ    0.079043    0.031963 -0.023863  1006\n",
       "DNR      0.061990    0.031813 -0.032598  1006\n",
       "KODK     0.056224    0.018636 -0.017235  1006\n",
       "CLF      0.051921    0.026767 -0.034512  1006\n",
       "FOSL     0.048964    0.016467 -0.024453  1006\n",
       "WFT      0.046256    0.022646  0.003890  1006\n",
       "AMD      0.042426    0.020191 -0.026574  1006\n",
       "BVSN     0.041750    0.015826 -0.008650  1006"
      ]
     },
     "execution_count": 17,
     "metadata": {},
     "output_type": "execute_result"
    }
   ],
   "source": [
    "res_RR_daily[\"Metrics_OOS\"].sort_values('RMSE', ascending=False).head(10)"
   ]
  },
  {
   "cell_type": "code",
   "execution_count": 19,
   "metadata": {
    "ExecuteTime": {
     "end_time": "2019-02-26T06:44:13.080866Z",
     "start_time": "2019-02-26T06:44:13.068900Z"
    }
   },
   "outputs": [
    {
     "data": {
      "text/html": [
       "<div>\n",
       "<style scoped>\n",
       "    .dataframe tbody tr th:only-of-type {\n",
       "        vertical-align: middle;\n",
       "    }\n",
       "\n",
       "    .dataframe tbody tr th {\n",
       "        vertical-align: top;\n",
       "    }\n",
       "\n",
       "    .dataframe thead th {\n",
       "        text-align: right;\n",
       "    }\n",
       "</style>\n",
       "<table border=\"1\" class=\"dataframe\">\n",
       "  <thead>\n",
       "    <tr style=\"text-align: right;\">\n",
       "      <th></th>\n",
       "      <th>RMSE</th>\n",
       "      <th>MAE</th>\n",
       "      <th>R2</th>\n",
       "      <th>SIZE</th>\n",
       "    </tr>\n",
       "  </thead>\n",
       "  <tbody>\n",
       "    <tr>\n",
       "      <th>SAF</th>\n",
       "      <td>617.222100</td>\n",
       "      <td>110.973974</td>\n",
       "      <td>-0.107454</td>\n",
       "      <td>1006</td>\n",
       "    </tr>\n",
       "    <tr>\n",
       "      <th>BHF</th>\n",
       "      <td>381.348139</td>\n",
       "      <td>0.016344</td>\n",
       "      <td>-0.030847</td>\n",
       "      <td>1006</td>\n",
       "    </tr>\n",
       "    <tr>\n",
       "      <th>IHRTQ</th>\n",
       "      <td>0.079228</td>\n",
       "      <td>0.031554</td>\n",
       "      <td>-0.028669</td>\n",
       "      <td>1006</td>\n",
       "    </tr>\n",
       "    <tr>\n",
       "      <th>DNR</th>\n",
       "      <td>0.061726</td>\n",
       "      <td>0.031729</td>\n",
       "      <td>-0.023805</td>\n",
       "      <td>1006</td>\n",
       "    </tr>\n",
       "    <tr>\n",
       "      <th>KODK</th>\n",
       "      <td>0.056560</td>\n",
       "      <td>0.019646</td>\n",
       "      <td>-0.029421</td>\n",
       "      <td>1006</td>\n",
       "    </tr>\n",
       "    <tr>\n",
       "      <th>CLF</th>\n",
       "      <td>0.051841</td>\n",
       "      <td>0.027434</td>\n",
       "      <td>-0.031345</td>\n",
       "      <td>1006</td>\n",
       "    </tr>\n",
       "    <tr>\n",
       "      <th>FOSL</th>\n",
       "      <td>0.049110</td>\n",
       "      <td>0.017169</td>\n",
       "      <td>-0.030571</td>\n",
       "      <td>1006</td>\n",
       "    </tr>\n",
       "    <tr>\n",
       "      <th>WFT</th>\n",
       "      <td>0.046463</td>\n",
       "      <td>0.022085</td>\n",
       "      <td>-0.005065</td>\n",
       "      <td>1006</td>\n",
       "    </tr>\n",
       "    <tr>\n",
       "      <th>AMD</th>\n",
       "      <td>0.042373</td>\n",
       "      <td>0.020267</td>\n",
       "      <td>-0.024010</td>\n",
       "      <td>1006</td>\n",
       "    </tr>\n",
       "    <tr>\n",
       "      <th>BVSN</th>\n",
       "      <td>0.041836</td>\n",
       "      <td>0.015923</td>\n",
       "      <td>-0.012767</td>\n",
       "      <td>1006</td>\n",
       "    </tr>\n",
       "  </tbody>\n",
       "</table>\n",
       "</div>"
      ],
      "text/plain": [
       "             RMSE         MAE        R2  SIZE\n",
       "SAF    617.222100  110.973974 -0.107454  1006\n",
       "BHF    381.348139    0.016344 -0.030847  1006\n",
       "IHRTQ    0.079228    0.031554 -0.028669  1006\n",
       "DNR      0.061726    0.031729 -0.023805  1006\n",
       "KODK     0.056560    0.019646 -0.029421  1006\n",
       "CLF      0.051841    0.027434 -0.031345  1006\n",
       "FOSL     0.049110    0.017169 -0.030571  1006\n",
       "WFT      0.046463    0.022085 -0.005065  1006\n",
       "AMD      0.042373    0.020267 -0.024010  1006\n",
       "BVSN     0.041836    0.015923 -0.012767  1006"
      ]
     },
     "execution_count": 19,
     "metadata": {},
     "output_type": "execute_result"
    }
   ],
   "source": [
    "res_rrnorm_daily[\"Metrics_OOS\"].sort_values('RMSE', ascending=False).head(10)"
   ]
  },
  {
   "cell_type": "code",
   "execution_count": 20,
   "metadata": {
    "ExecuteTime": {
     "end_time": "2019-02-26T06:44:29.666981Z",
     "start_time": "2019-02-26T06:44:29.660942Z"
    }
   },
   "outputs": [],
   "source": [
    "oos_rr_norm = res_rrnorm_daily[\"Metrics_OOS\"][~res_rrnorm_daily[\"Metrics_OOS\"].index.isin(outliers)]\n",
    "oos_rr = res_RR_daily[\"Metrics_OOS\"][~res_RR_daily[\"Metrics_OOS\"].index.isin(outliers)]"
   ]
  },
  {
   "cell_type": "markdown",
   "metadata": {
    "ExecuteTime": {
     "end_time": "2019-02-19T13:30:20.889507Z",
     "start_time": "2019-02-19T13:23:34.061Z"
    }
   },
   "source": [
    "## Visualize Results"
   ]
  },
  {
   "cell_type": "code",
   "execution_count": 22,
   "metadata": {
    "ExecuteTime": {
     "end_time": "2019-02-26T06:44:48.062647Z",
     "start_time": "2019-02-26T06:44:47.679630Z"
    }
   },
   "outputs": [
    {
     "data": {
      "text/plain": [
       "<matplotlib.legend.Legend at 0x2bfc1f07ba8>"
      ]
     },
     "execution_count": 22,
     "metadata": {},
     "output_type": "execute_result"
    },
    {
     "data": {
      "image/png": "[encoded data removed]",
      "text/plain": [
       "<Figure size 1008x360 with 2 Axes>"
      ]
     },
     "metadata": {
      "needs_background": "light"
     },
     "output_type": "display_data"
    }
   ],
   "source": [
    "fig, ax = plt.subplots(1,2, figsize=(14,5))\n",
    "\n",
    "rmse_rr = oos_rr['RMSE']\n",
    "rmse_rr.hist(ax=ax[0], bins=30)\n",
    "ax[0].set_title(\"RR: %s RMSE (2015 - 2018)\" % return_type, fontweight=700)\n",
    "ax[0].axvline(rmse_rr.mean(), color='red', label=\"Average RMSE\")\n",
    "ax[0].annotate('%.5f' % rmse_rr.mean(), xy=(rmse_rr.mean(), 0), \n",
    "               xytext=(2, 2), textcoords='offset points',color='w')\n",
    "ax[0].legend()\n",
    "\n",
    "rmse_gbm = oos_rr_norm['RMSE']\n",
    "rmse_gbm.hist(ax=ax[1], bins=30, color='green')\n",
    "ax[1].set_title(\"RR Norm: %s RMSE (2015 - 2018)\" % return_type, fontweight=700)\n",
    "ax[1].axvline(rmse_gbm.mean(), color='red', label=\"Average RMSE\")\n",
    "ax[1].annotate('%.5f' % rmse_gbm.mean(), xy=(rmse_gbm.mean(), 0), \n",
    "               xytext=(2, 2), textcoords='offset points',color='w')\n",
    "ax[1].legend()"
   ]
  },
  {
   "cell_type": "code",
   "execution_count": 23,
   "metadata": {
    "ExecuteTime": {
     "end_time": "2019-02-26T06:45:26.218793Z",
     "start_time": "2019-02-26T06:45:26.007357Z"
    }
   },
   "outputs": [
    {
     "data": {
      "text/plain": [
       "<matplotlib.legend.Legend at 0x2bfc08af828>"
      ]
     },
     "execution_count": 23,
     "metadata": {},
     "output_type": "execute_result"
    },
    {
     "data": {
      "image/png": "[encoded data removed]",
      "text/plain": [
       "<Figure size 720x288 with 1 Axes>"
      ]
     },
     "metadata": {
      "needs_background": "light"
     },
     "output_type": "display_data"
    }
   ],
   "source": [
    "rolling_gbm = res_rrnorm_daily[\"Rolling_OOS\"].drop(outliers, axis=1)\n",
    "rolling_rr = res_RR_daily[\"Rolling_OOS\"].drop(outliers, axis=1)\n",
    "fig, ax = plt.subplots(1,1, figsize=(10,4))\n",
    "\n",
    "ax.set_title('Cumulative Average MAE Over Time', fontweight=700)\n",
    "\n",
    "l1, = ax.plot(rolling_rr.mean(1))\n",
    "l2, = ax.plot(rolling_gbm.mean(1), color='green')\n",
    "\n",
    "ax.legend((l1, l2), ('RR %s' % return_type, 'RR Norm %s' % return_type))"
   ]
  },
  {
   "cell_type": "code",
   "execution_count": null,
   "metadata": {},
   "outputs": [],
   "source": []
  }
 ],
 "metadata": {
  "hide_input": false,
  "kernelspec": {
   "display_name": "Python [conda env:afp_forecast]",
   "language": "python",
   "name": "conda-env-afp_forecast-py"
  },
  "language_info": {
   "codemirror_mode": {
    "name": "ipython",
    "version": 3
   },
   "file_extension": ".py",
   "mimetype": "text/x-python",
   "name": "python",
   "nbconvert_exporter": "python",
   "pygments_lexer": "ipython3",
   "version": "3.6.8"
  },
  "toc": {
   "base_numbering": 1,
   "nav_menu": {},
   "number_sections": false,
   "sideBar": true,
   "skip_h1_title": false,
   "title_cell": "Table of Contents",
   "title_sidebar": "Contents",
   "toc_cell": false,
   "toc_position": {},
   "toc_section_display": true,
   "toc_window_display": false
  },
  "varInspector": {
   "cols": {
    "lenName": 16,
    "lenType": 16,
    "lenVar": 40
   },
   "kernels_config": {
    "python": {
     "delete_cmd_postfix": "",
     "delete_cmd_prefix": "del ",
     "library": "var_list.py",
     "varRefreshCmd": "print(var_dic_list())"
    },
    "r": {
     "delete_cmd_postfix": ") ",
     "delete_cmd_prefix": "rm(",
     "library": "var_list.r",
     "varRefreshCmd": "cat(var_dic_list()) "
    }
   },
   "types_to_exclude": [
    "module",
    "function",
    "builtin_function_or_method",
    "instance",
    "_Feature"
   ],
   "window_display": false
  }
 },
 "nbformat": 4,
 "nbformat_minor": 2
}
