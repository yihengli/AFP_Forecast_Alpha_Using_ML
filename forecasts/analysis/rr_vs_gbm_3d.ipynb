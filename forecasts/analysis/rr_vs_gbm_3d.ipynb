{
 "cells": [
  {
   "cell_type": "code",
   "execution_count": 2,
   "metadata": {
    "ExecuteTime": {
     "end_time": "2019-02-24T01:32:36.706633Z",
     "start_time": "2019-02-24T01:32:36.681646Z"
    }
   },
   "outputs": [],
   "source": [
    "%load_ext autoreload\n",
    "%autoreload 1"
   ]
  },
  {
   "cell_type": "code",
   "execution_count": 3,
   "metadata": {
    "ExecuteTime": {
     "end_time": "2019-02-24T01:32:41.094582Z",
     "start_time": "2019-02-24T01:32:36.989969Z"
    }
   },
   "outputs": [],
   "source": [
    "import os\n",
    "import sys\n",
    "sys.path.append(os.path.abspath('..'))\n",
    "\n",
    "import pandas as pd\n",
    "import numpy as np\n",
    "import matplotlib as mpl\n",
    "import matplotlib.pyplot as plt\n",
    "%aimport analyzers\n",
    "%aimport processor\n",
    "%aimport utils\n",
    "%aimport forecast\n",
    "%aimport models\n",
    "\n",
    "plt.style.use('seaborn')\n",
    "mpl.rcParams['legend.frameon'] = True\n",
    "mpl.rcParams['legend.facecolor'] = 'w'"
   ]
  },
  {
   "cell_type": "markdown",
   "metadata": {},
   "source": [
    "## Set up global parameters"
   ]
  },
  {
   "cell_type": "code",
   "execution_count": 16,
   "metadata": {
    "ExecuteTime": {
     "end_time": "2019-02-24T01:36:04.275727Z",
     "start_time": "2019-02-24T01:36:04.259414Z"
    }
   },
   "outputs": [],
   "source": [
    "# Predictions Locations\n",
    "prediction_folder = '/Users/liyiheng/Google Drive/GroupWorks/Term4-AFP/forecasts/Predictions/'\n",
    "RR_Prediction_Path = os.path.join(prediction_folder, 'RR_3d.csv')\n",
    "GBM_Prediction_Path = os.path.join(prediction_folder, 'GBM_3d.csv')\n",
    "\n",
    "# Analyzer Arguments\n",
    "task = 'yahoo'\n",
    "tickers = processor.YahooProcessor.get_all_tickers()\n",
    "folder = None\n",
    "freq = 'd'\n",
    "fromdate = '2000-01-01'\n",
    "todate = '2018-12-31'\n",
    "forward_bars = 0\n",
    "train_periods = ('2000-01-01', '2014-12-31')\n",
    "test_periods = ('2015-01-01', '2018-12-31')\n",
    "\n",
    "# Outlier Stocks\n",
    "outliers = ['SAF', 'BHF', 'IHRTQ']\n",
    "\n",
    "# Plot Arguments\n",
    "return_type = '3 Days Forward Returns'"
   ]
  },
  {
   "cell_type": "markdown",
   "metadata": {},
   "source": [
    "## Calculate RMSE etc. performance metrics"
   ]
  },
  {
   "cell_type": "code",
   "execution_count": 5,
   "metadata": {
    "ExecuteTime": {
     "end_time": "2019-02-24T01:33:27.346810Z",
     "start_time": "2019-02-24T01:33:06.042910Z"
    },
    "scrolled": true
   },
   "outputs": [
    {
     "name": "stdout",
     "output_type": "stream",
     "text": [
      "2019-02-23 17:33:06,048 -  INFO   Loading Yahoo Labels...\n"
     ]
    },
    {
     "data": {
      "application/vnd.jupyter.widget-view+json": {
       "model_id": "d5bc086912cc4090a6ba0fa48342c6af",
       "version_major": 2,
       "version_minor": 0
      },
      "text/plain": [
       "HBox(children=(IntProgress(value=0, max=638), HTML(value='')))"
      ]
     },
     "metadata": {},
     "output_type": "display_data"
    },
    {
     "name": "stdout",
     "output_type": "stream",
     "text": [
      "\n",
      "2019-02-23 17:33:17,895 -  INFO   Loading Predictions Files From /Users/liyiheng/Google Drive/GroupWorks/Term4-AFP/forecasts/Predictions/GBM_3d.csv\n"
     ]
    },
    {
     "data": {
      "application/vnd.jupyter.widget-view+json": {
       "model_id": "d7821ed2ff73405e9b7ec0b61a84d982",
       "version_major": 2,
       "version_minor": 0
      },
      "text/plain": [
       "HBox(children=(IntProgress(value=0, max=602), HTML(value='')))"
      ]
     },
     "metadata": {},
     "output_type": "display_data"
    },
    {
     "name": "stdout",
     "output_type": "stream",
     "text": [
      "\n",
      "2019-02-23 17:33:26,590 -  INFO   Task Finished: 602 Attempted and 0 Failed.\n"
     ]
    }
   ],
   "source": [
    "res_gbm_daily = analyzers.Analyzer().analyze(\n",
    "    pred_path=GBM_Prediction_Path,\n",
    "    train_periods=train_periods,\n",
    "    test_periods=test_periods,\n",
    "    rolling_metric='cum_abs_error',\n",
    "    task = task,\n",
    "    tickers = tickers,\n",
    "    folder = None,\n",
    "    freq = 'd',\n",
    "    forward_bars = forward_bars,\n",
    "    output_file=None)"
   ]
  },
  {
   "cell_type": "code",
   "execution_count": 6,
   "metadata": {
    "ExecuteTime": {
     "end_time": "2019-02-24T01:33:47.105427Z",
     "start_time": "2019-02-24T01:33:27.356807Z"
    },
    "scrolled": true
   },
   "outputs": [
    {
     "name": "stdout",
     "output_type": "stream",
     "text": [
      "2019-02-23 17:33:27,397 -  INFO   Loading Yahoo Labels...\n"
     ]
    },
    {
     "data": {
      "application/vnd.jupyter.widget-view+json": {
       "model_id": "406ebe4163d747eaba613e6a3150fa52",
       "version_major": 2,
       "version_minor": 0
      },
      "text/plain": [
       "HBox(children=(IntProgress(value=0, max=638), HTML(value='')))"
      ]
     },
     "metadata": {},
     "output_type": "display_data"
    },
    {
     "name": "stdout",
     "output_type": "stream",
     "text": [
      "\n",
      "2019-02-23 17:33:36,849 -  INFO   Loading Predictions Files From /Users/liyiheng/Google Drive/GroupWorks/Term4-AFP/forecasts/Predictions/RR_3d.csv\n"
     ]
    },
    {
     "data": {
      "application/vnd.jupyter.widget-view+json": {
       "model_id": "42da8a090541456293e87a275d672801",
       "version_major": 2,
       "version_minor": 0
      },
      "text/plain": [
       "HBox(children=(IntProgress(value=0, max=625), HTML(value='')))"
      ]
     },
     "metadata": {},
     "output_type": "display_data"
    },
    {
     "name": "stdout",
     "output_type": "stream",
     "text": [
      "2019-02-23 17:33:37,978 -  ERROR  <ADNT>: Not Enough In Sample Predictions!\n",
      "2019-02-23 17:33:38,361 -  ERROR  <ANET>: Not Enough In Sample Predictions!\n",
      "2019-02-23 17:33:38,578 -  ERROR  <ASIX>: Not Enough In Sample Predictions!\n",
      "2019-02-23 17:33:38,639 -  ERROR  <ATUS>: Not Enough In Sample Predictions!\n",
      "2019-02-23 17:33:39,019 -  ERROR  <BTU>: Not Enough In Sample Predictions!\n",
      "2019-02-23 17:33:39,143 -  ERROR  <CARS>: Not Enough In Sample Predictions!\n",
      "2019-02-23 17:33:39,325 -  ERROR  <CFG>: Not Enough In Sample Predictions!\n",
      "2019-02-23 17:33:39,546 -  ERROR  <CNDT>: Not Enough In Sample Predictions!\n",
      "2019-02-23 17:33:39,913 -  ERROR  <DELL>: Not Enough In Sample Predictions!\n",
      "2019-02-23 17:33:40,642 -  ERROR  <FCPT>: Not Enough In Sample Predictions!\n",
      "2019-02-23 17:33:40,675 -  ERROR  <FDC>: Not Enough In Sample Predictions!\n",
      "2019-02-23 17:33:41,014 -  ERROR  <FTV>: Not Enough In Sample Predictions!\n",
      "2019-02-23 17:33:41,595 -  ERROR  <HPE>: Not Enough In Sample Predictions!\n",
      "2019-02-23 17:33:41,935 -  ERROR  <INFO>: Not Enough In Sample Predictions!\n",
      "2019-02-23 17:33:42,137 -  ERROR  <JBGS>: Not Enough In Sample Predictions!\n",
      "2019-02-23 17:33:42,333 -  ERROR  <KEYS>: Not Enough In Sample Predictions!\n",
      "2019-02-23 17:33:42,348 -  ERROR  <KHC>: Not Enough In Sample Predictions!\n",
      "2019-02-23 17:33:42,703 -  ERROR  <LW>: Not Enough In Sample Predictions!\n",
      "2019-02-23 17:33:43,405 -  ERROR  <NAVI>: Not Enough In Sample Predictions!\n",
      "2019-02-23 17:33:43,589 -  ERROR  <NGVT>: Not Enough In Sample Predictions!\n",
      "2019-02-23 17:33:44,430 -  ERROR  <PYPL>: Not Enough In Sample Predictions!\n",
      "2019-02-23 17:33:44,458 -  ERROR  <QRVO>: Not Enough In Sample Predictions!\n",
      "2019-02-23 17:33:45,129 -  ERROR  <SYF>: Not Enough In Sample Predictions!\n",
      "2019-02-23 17:33:45,821 -  ERROR  <VREX>: Not Enough In Sample Predictions!\n",
      "2019-02-23 17:33:45,879 -  ERROR  <VSM>: Not Enough In Sample Predictions!\n",
      "2019-02-23 17:33:46,156 -  ERROR  <WRK>: Not Enough In Sample Predictions!\n",
      "2019-02-23 17:33:46,320 -  ERROR  <YUMC>: Not Enough In Sample Predictions!\n",
      "\n",
      "2019-02-23 17:33:46,414 -  INFO   Task Finished: 625 Attempted and 27 Failed.\n"
     ]
    }
   ],
   "source": [
    "res_RR_daily = analyzers.Analyzer().analyze(\n",
    "    pred_path=RR_Prediction_Path,\n",
    "    train_periods=train_periods,\n",
    "    test_periods=test_periods,\n",
    "    rolling_metric='cum_abs_error',\n",
    "    task = task,\n",
    "    tickers = tickers,\n",
    "    folder = None,\n",
    "    freq = 'd',\n",
    "    forward_bars = forward_bars,\n",
    "    output_file=None)"
   ]
  },
  {
   "cell_type": "markdown",
   "metadata": {},
   "source": [
    "## Check RMSE per stock\n",
    "\n",
    "We noticed `GBM` model is in general better `RR` model in almost every quantile in terms of both RMSE and MAE. However, it's more sensitive to outliers and thus higher average performance metrics."
   ]
  },
  {
   "cell_type": "code",
   "execution_count": 7,
   "metadata": {
    "ExecuteTime": {
     "end_time": "2019-02-24T01:33:50.499284Z",
     "start_time": "2019-02-24T01:33:50.462031Z"
    }
   },
   "outputs": [
    {
     "data": {
      "text/html": [
       "<div>\n",
       "<style scoped>\n",
       "    .dataframe tbody tr th:only-of-type {\n",
       "        vertical-align: middle;\n",
       "    }\n",
       "\n",
       "    .dataframe tbody tr th {\n",
       "        vertical-align: top;\n",
       "    }\n",
       "\n",
       "    .dataframe thead th {\n",
       "        text-align: right;\n",
       "    }\n",
       "</style>\n",
       "<table border=\"1\" class=\"dataframe\">\n",
       "  <thead>\n",
       "    <tr style=\"text-align: right;\">\n",
       "      <th></th>\n",
       "      <th>RMSE</th>\n",
       "      <th>MAE</th>\n",
       "      <th>R2</th>\n",
       "      <th>SIZE</th>\n",
       "    </tr>\n",
       "  </thead>\n",
       "  <tbody>\n",
       "    <tr>\n",
       "      <th>count</th>\n",
       "      <td>598.000000</td>\n",
       "      <td>598.000000</td>\n",
       "      <td>598.000000</td>\n",
       "      <td>598.000000</td>\n",
       "    </tr>\n",
       "    <tr>\n",
       "      <th>mean</th>\n",
       "      <td>1.991629</td>\n",
       "      <td>0.428836</td>\n",
       "      <td>-0.063053</td>\n",
       "      <td>1001.399666</td>\n",
       "    </tr>\n",
       "    <tr>\n",
       "      <th>std</th>\n",
       "      <td>34.142540</td>\n",
       "      <td>10.248595</td>\n",
       "      <td>0.030706</td>\n",
       "      <td>39.083844</td>\n",
       "    </tr>\n",
       "    <tr>\n",
       "      <th>min</th>\n",
       "      <td>0.008564</td>\n",
       "      <td>0.004700</td>\n",
       "      <td>-0.338230</td>\n",
       "      <td>240.000000</td>\n",
       "    </tr>\n",
       "    <tr>\n",
       "      <th>25%</th>\n",
       "      <td>0.013780</td>\n",
       "      <td>0.007400</td>\n",
       "      <td>-0.075240</td>\n",
       "      <td>1004.000000</td>\n",
       "    </tr>\n",
       "    <tr>\n",
       "      <th>50%</th>\n",
       "      <td>0.016642</td>\n",
       "      <td>0.008569</td>\n",
       "      <td>-0.059849</td>\n",
       "      <td>1004.000000</td>\n",
       "    </tr>\n",
       "    <tr>\n",
       "      <th>75%</th>\n",
       "      <td>0.021532</td>\n",
       "      <td>0.010863</td>\n",
       "      <td>-0.045325</td>\n",
       "      <td>1004.000000</td>\n",
       "    </tr>\n",
       "    <tr>\n",
       "      <th>max</th>\n",
       "      <td>624.608349</td>\n",
       "      <td>250.629250</td>\n",
       "      <td>-0.002195</td>\n",
       "      <td>1004.000000</td>\n",
       "    </tr>\n",
       "  </tbody>\n",
       "</table>\n",
       "</div>"
      ],
      "text/plain": [
       "             RMSE         MAE          R2         SIZE\n",
       "count  598.000000  598.000000  598.000000   598.000000\n",
       "mean     1.991629    0.428836   -0.063053  1001.399666\n",
       "std     34.142540   10.248595    0.030706    39.083844\n",
       "min      0.008564    0.004700   -0.338230   240.000000\n",
       "25%      0.013780    0.007400   -0.075240  1004.000000\n",
       "50%      0.016642    0.008569   -0.059849  1004.000000\n",
       "75%      0.021532    0.010863   -0.045325  1004.000000\n",
       "max    624.608349  250.629250   -0.002195  1004.000000"
      ]
     },
     "execution_count": 7,
     "metadata": {},
     "output_type": "execute_result"
    }
   ],
   "source": [
    "res_RR_daily['Metrics_OOS'].describe()"
   ]
  },
  {
   "cell_type": "code",
   "execution_count": 8,
   "metadata": {
    "ExecuteTime": {
     "end_time": "2019-02-24T01:33:51.115055Z",
     "start_time": "2019-02-24T01:33:51.079448Z"
    }
   },
   "outputs": [
    {
     "data": {
      "text/html": [
       "<div>\n",
       "<style scoped>\n",
       "    .dataframe tbody tr th:only-of-type {\n",
       "        vertical-align: middle;\n",
       "    }\n",
       "\n",
       "    .dataframe tbody tr th {\n",
       "        vertical-align: top;\n",
       "    }\n",
       "\n",
       "    .dataframe thead th {\n",
       "        text-align: right;\n",
       "    }\n",
       "</style>\n",
       "<table border=\"1\" class=\"dataframe\">\n",
       "  <thead>\n",
       "    <tr style=\"text-align: right;\">\n",
       "      <th></th>\n",
       "      <th>RMSE</th>\n",
       "      <th>MAE</th>\n",
       "      <th>R2</th>\n",
       "      <th>SIZE</th>\n",
       "    </tr>\n",
       "  </thead>\n",
       "  <tbody>\n",
       "    <tr>\n",
       "      <th>count</th>\n",
       "      <td>602.000000</td>\n",
       "      <td>602.000000</td>\n",
       "      <td>602.000000</td>\n",
       "      <td>602.000000</td>\n",
       "    </tr>\n",
       "    <tr>\n",
       "      <th>mean</th>\n",
       "      <td>6.315506</td>\n",
       "      <td>0.010872</td>\n",
       "      <td>-0.124201</td>\n",
       "      <td>1001.416944</td>\n",
       "    </tr>\n",
       "    <tr>\n",
       "      <th>std</th>\n",
       "      <td>133.754154</td>\n",
       "      <td>0.032294</td>\n",
       "      <td>1.176745</td>\n",
       "      <td>38.954138</td>\n",
       "    </tr>\n",
       "    <tr>\n",
       "      <th>min</th>\n",
       "      <td>0.008593</td>\n",
       "      <td>0.004617</td>\n",
       "      <td>-27.997846</td>\n",
       "      <td>240.000000</td>\n",
       "    </tr>\n",
       "    <tr>\n",
       "      <th>25%</th>\n",
       "      <td>0.013609</td>\n",
       "      <td>0.007012</td>\n",
       "      <td>-0.026650</td>\n",
       "      <td>1004.000000</td>\n",
       "    </tr>\n",
       "    <tr>\n",
       "      <th>50%</th>\n",
       "      <td>0.016487</td>\n",
       "      <td>0.008226</td>\n",
       "      <td>-0.007400</td>\n",
       "      <td>1004.000000</td>\n",
       "    </tr>\n",
       "    <tr>\n",
       "      <th>75%</th>\n",
       "      <td>0.021620</td>\n",
       "      <td>0.010601</td>\n",
       "      <td>-0.003097</td>\n",
       "      <td>1004.000000</td>\n",
       "    </tr>\n",
       "    <tr>\n",
       "      <th>max</th>\n",
       "      <td>3235.404829</td>\n",
       "      <td>0.794964</td>\n",
       "      <td>0.018190</td>\n",
       "      <td>1004.000000</td>\n",
       "    </tr>\n",
       "  </tbody>\n",
       "</table>\n",
       "</div>"
      ],
      "text/plain": [
       "              RMSE         MAE          R2         SIZE\n",
       "count   602.000000  602.000000  602.000000   602.000000\n",
       "mean      6.315506    0.010872   -0.124201  1001.416944\n",
       "std     133.754154    0.032294    1.176745    38.954138\n",
       "min       0.008593    0.004617  -27.997846   240.000000\n",
       "25%       0.013609    0.007012   -0.026650  1004.000000\n",
       "50%       0.016487    0.008226   -0.007400  1004.000000\n",
       "75%       0.021620    0.010601   -0.003097  1004.000000\n",
       "max    3235.404829    0.794964    0.018190  1004.000000"
      ]
     },
     "execution_count": 8,
     "metadata": {},
     "output_type": "execute_result"
    }
   ],
   "source": [
    "res_gbm_daily['Metrics_OOS'].describe()"
   ]
  },
  {
   "cell_type": "markdown",
   "metadata": {},
   "source": [
    "## Identify Outliers\n",
    "\n",
    "We noticed the outliers are actually coming from `SAF` and `BHF` stocks, for now just exclude both of them from our samples!"
   ]
  },
  {
   "cell_type": "code",
   "execution_count": 9,
   "metadata": {
    "ExecuteTime": {
     "end_time": "2019-02-24T01:34:01.417463Z",
     "start_time": "2019-02-24T01:34:01.401175Z"
    }
   },
   "outputs": [
    {
     "data": {
      "text/html": [
       "<div>\n",
       "<style scoped>\n",
       "    .dataframe tbody tr th:only-of-type {\n",
       "        vertical-align: middle;\n",
       "    }\n",
       "\n",
       "    .dataframe tbody tr th {\n",
       "        vertical-align: top;\n",
       "    }\n",
       "\n",
       "    .dataframe thead th {\n",
       "        text-align: right;\n",
       "    }\n",
       "</style>\n",
       "<table border=\"1\" class=\"dataframe\">\n",
       "  <thead>\n",
       "    <tr style=\"text-align: right;\">\n",
       "      <th></th>\n",
       "      <th>RMSE</th>\n",
       "      <th>MAE</th>\n",
       "      <th>R2</th>\n",
       "      <th>SIZE</th>\n",
       "    </tr>\n",
       "  </thead>\n",
       "  <tbody>\n",
       "    <tr>\n",
       "      <th>SAF</th>\n",
       "      <td>624.608349</td>\n",
       "      <td>250.629250</td>\n",
       "      <td>-0.080747</td>\n",
       "      <td>955</td>\n",
       "    </tr>\n",
       "    <tr>\n",
       "      <th>BHF</th>\n",
       "      <td>555.127777</td>\n",
       "      <td>0.027533</td>\n",
       "      <td>-0.002195</td>\n",
       "      <td>461</td>\n",
       "    </tr>\n",
       "    <tr>\n",
       "      <th>IHRTQ</th>\n",
       "      <td>0.080072</td>\n",
       "      <td>0.031838</td>\n",
       "      <td>-0.048769</td>\n",
       "      <td>1004</td>\n",
       "    </tr>\n",
       "    <tr>\n",
       "      <th>DNR</th>\n",
       "      <td>0.063250</td>\n",
       "      <td>0.033735</td>\n",
       "      <td>-0.073086</td>\n",
       "      <td>1004</td>\n",
       "    </tr>\n",
       "    <tr>\n",
       "      <th>KODK</th>\n",
       "      <td>0.058124</td>\n",
       "      <td>0.019048</td>\n",
       "      <td>-0.085610</td>\n",
       "      <td>1004</td>\n",
       "    </tr>\n",
       "    <tr>\n",
       "      <th>CLF</th>\n",
       "      <td>0.053143</td>\n",
       "      <td>0.027328</td>\n",
       "      <td>-0.081919</td>\n",
       "      <td>1004</td>\n",
       "    </tr>\n",
       "    <tr>\n",
       "      <th>FOSL</th>\n",
       "      <td>0.050533</td>\n",
       "      <td>0.018106</td>\n",
       "      <td>-0.089575</td>\n",
       "      <td>1004</td>\n",
       "    </tr>\n",
       "    <tr>\n",
       "      <th>WFT</th>\n",
       "      <td>0.044160</td>\n",
       "      <td>0.022844</td>\n",
       "      <td>-0.011611</td>\n",
       "      <td>1004</td>\n",
       "    </tr>\n",
       "    <tr>\n",
       "      <th>AMD</th>\n",
       "      <td>0.043037</td>\n",
       "      <td>0.022117</td>\n",
       "      <td>-0.055054</td>\n",
       "      <td>1004</td>\n",
       "    </tr>\n",
       "    <tr>\n",
       "      <th>AKS</th>\n",
       "      <td>0.042601</td>\n",
       "      <td>0.024641</td>\n",
       "      <td>-0.087641</td>\n",
       "      <td>1004</td>\n",
       "    </tr>\n",
       "  </tbody>\n",
       "</table>\n",
       "</div>"
      ],
      "text/plain": [
       "             RMSE         MAE        R2  SIZE\n",
       "SAF    624.608349  250.629250 -0.080747   955\n",
       "BHF    555.127777    0.027533 -0.002195   461\n",
       "IHRTQ    0.080072    0.031838 -0.048769  1004\n",
       "DNR      0.063250    0.033735 -0.073086  1004\n",
       "KODK     0.058124    0.019048 -0.085610  1004\n",
       "CLF      0.053143    0.027328 -0.081919  1004\n",
       "FOSL     0.050533    0.018106 -0.089575  1004\n",
       "WFT      0.044160    0.022844 -0.011611  1004\n",
       "AMD      0.043037    0.022117 -0.055054  1004\n",
       "AKS      0.042601    0.024641 -0.087641  1004"
      ]
     },
     "execution_count": 9,
     "metadata": {},
     "output_type": "execute_result"
    }
   ],
   "source": [
    "res_RR_daily[\"Metrics_OOS\"].sort_values('RMSE', ascending=False).head(10)"
   ]
  },
  {
   "cell_type": "code",
   "execution_count": 10,
   "metadata": {
    "ExecuteTime": {
     "end_time": "2019-02-24T01:34:02.714643Z",
     "start_time": "2019-02-24T01:34:02.697288Z"
    }
   },
   "outputs": [
    {
     "data": {
      "text/html": [
       "<div>\n",
       "<style scoped>\n",
       "    .dataframe tbody tr th:only-of-type {\n",
       "        vertical-align: middle;\n",
       "    }\n",
       "\n",
       "    .dataframe tbody tr th {\n",
       "        vertical-align: top;\n",
       "    }\n",
       "\n",
       "    .dataframe thead th {\n",
       "        text-align: right;\n",
       "    }\n",
       "</style>\n",
       "<table border=\"1\" class=\"dataframe\">\n",
       "  <thead>\n",
       "    <tr style=\"text-align: right;\">\n",
       "      <th></th>\n",
       "      <th>RMSE</th>\n",
       "      <th>MAE</th>\n",
       "      <th>R2</th>\n",
       "      <th>SIZE</th>\n",
       "    </tr>\n",
       "  </thead>\n",
       "  <tbody>\n",
       "    <tr>\n",
       "      <th>SAF</th>\n",
       "      <td>3235.404829</td>\n",
       "      <td>0.794964</td>\n",
       "      <td>-27.997846</td>\n",
       "      <td>955</td>\n",
       "    </tr>\n",
       "    <tr>\n",
       "      <th>BHF</th>\n",
       "      <td>555.122321</td>\n",
       "      <td>0.026995</td>\n",
       "      <td>-0.002175</td>\n",
       "      <td>461</td>\n",
       "    </tr>\n",
       "    <tr>\n",
       "      <th>IHRTQ</th>\n",
       "      <td>0.116117</td>\n",
       "      <td>0.048343</td>\n",
       "      <td>-1.205548</td>\n",
       "      <td>1004</td>\n",
       "    </tr>\n",
       "    <tr>\n",
       "      <th>DNR</th>\n",
       "      <td>0.061087</td>\n",
       "      <td>0.030378</td>\n",
       "      <td>-0.000973</td>\n",
       "      <td>1004</td>\n",
       "    </tr>\n",
       "    <tr>\n",
       "      <th>KODK</th>\n",
       "      <td>0.060392</td>\n",
       "      <td>0.024163</td>\n",
       "      <td>-0.171965</td>\n",
       "      <td>1004</td>\n",
       "    </tr>\n",
       "    <tr>\n",
       "      <th>TWTR</th>\n",
       "      <td>0.056484</td>\n",
       "      <td>0.026393</td>\n",
       "      <td>-1.868814</td>\n",
       "      <td>1004</td>\n",
       "    </tr>\n",
       "    <tr>\n",
       "      <th>FMCC</th>\n",
       "      <td>0.056369</td>\n",
       "      <td>0.023578</td>\n",
       "      <td>-0.958212</td>\n",
       "      <td>1004</td>\n",
       "    </tr>\n",
       "    <tr>\n",
       "      <th>CZR</th>\n",
       "      <td>0.055593</td>\n",
       "      <td>0.030648</td>\n",
       "      <td>-1.177278</td>\n",
       "      <td>1004</td>\n",
       "    </tr>\n",
       "    <tr>\n",
       "      <th>CLF</th>\n",
       "      <td>0.051105</td>\n",
       "      <td>0.025630</td>\n",
       "      <td>-0.000505</td>\n",
       "      <td>1004</td>\n",
       "    </tr>\n",
       "    <tr>\n",
       "      <th>FOSL</th>\n",
       "      <td>0.048695</td>\n",
       "      <td>0.017092</td>\n",
       "      <td>-0.011759</td>\n",
       "      <td>1004</td>\n",
       "    </tr>\n",
       "  </tbody>\n",
       "</table>\n",
       "</div>"
      ],
      "text/plain": [
       "              RMSE       MAE         R2  SIZE\n",
       "SAF    3235.404829  0.794964 -27.997846   955\n",
       "BHF     555.122321  0.026995  -0.002175   461\n",
       "IHRTQ     0.116117  0.048343  -1.205548  1004\n",
       "DNR       0.061087  0.030378  -0.000973  1004\n",
       "KODK      0.060392  0.024163  -0.171965  1004\n",
       "TWTR      0.056484  0.026393  -1.868814  1004\n",
       "FMCC      0.056369  0.023578  -0.958212  1004\n",
       "CZR       0.055593  0.030648  -1.177278  1004\n",
       "CLF       0.051105  0.025630  -0.000505  1004\n",
       "FOSL      0.048695  0.017092  -0.011759  1004"
      ]
     },
     "execution_count": 10,
     "metadata": {},
     "output_type": "execute_result"
    }
   ],
   "source": [
    "res_gbm_daily[\"Metrics_OOS\"].sort_values('RMSE', ascending=False).head(10)"
   ]
  },
  {
   "cell_type": "code",
   "execution_count": 17,
   "metadata": {
    "ExecuteTime": {
     "end_time": "2019-02-24T01:36:18.962527Z",
     "start_time": "2019-02-24T01:36:18.954293Z"
    }
   },
   "outputs": [],
   "source": [
    "oos_gbm = res_gbm_daily[\"Metrics_OOS\"][~res_gbm_daily[\"Metrics_OOS\"].index.isin(outliers)]\n",
    "oos_rr = res_RR_daily[\"Metrics_OOS\"][~res_RR_daily[\"Metrics_OOS\"].index.isin(outliers)]"
   ]
  },
  {
   "cell_type": "markdown",
   "metadata": {
    "ExecuteTime": {
     "end_time": "2019-02-19T13:30:20.889507Z",
     "start_time": "2019-02-19T13:23:34.061Z"
    }
   },
   "source": [
    "## Visualize Results"
   ]
  },
  {
   "cell_type": "code",
   "execution_count": 18,
   "metadata": {
    "ExecuteTime": {
     "end_time": "2019-02-24T01:36:22.071467Z",
     "start_time": "2019-02-24T01:36:21.475427Z"
    }
   },
   "outputs": [
    {
     "data": {
      "text/plain": [
       "<matplotlib.legend.Legend at 0x1c220dc5c0>"
      ]
     },
     "execution_count": 18,
     "metadata": {},
     "output_type": "execute_result"
    },
    {
     "data": {
      "image/png": "[encoded data removed]",
      "text/plain": [
       "<Figure size 1008x360 with 2 Axes>"
      ]
     },
     "metadata": {
      "needs_background": "light"
     },
     "output_type": "display_data"
    }
   ],
   "source": [
    "fig, ax = plt.subplots(1,2, figsize=(14,5))\n",
    "\n",
    "rmse_rr = oos_rr['RMSE']\n",
    "rmse_rr.hist(ax=ax[0], bins=30)\n",
    "ax[0].set_title(\"RR: %s RMSE (2015 - 2018)\" % return_type, fontweight=700)\n",
    "ax[0].axvline(rmse_rr.mean(), color='red', label=\"Average RMSE\")\n",
    "ax[0].annotate('%.5f' % rmse_rr.mean(), xy=(rmse_rr.mean(), 0), \n",
    "               xytext=(2, 2), textcoords='offset points',color='w')\n",
    "ax[0].legend()\n",
    "\n",
    "rmse_gbm = oos_gbm['RMSE']\n",
    "rmse_gbm.hist(ax=ax[1], bins=30, color='green')\n",
    "ax[1].set_title(\"GBM: %s RMSE (2015 - 2018)\" % return_type, fontweight=700)\n",
    "ax[1].axvline(rmse_gbm.mean(), color='red', label=\"Average RMSE\")\n",
    "ax[1].annotate('%.5f' % rmse_gbm.mean(), xy=(rmse_gbm.mean(), 0), \n",
    "               xytext=(2, 2), textcoords='offset points',color='w')\n",
    "ax[1].legend()"
   ]
  },
  {
   "cell_type": "code",
   "execution_count": 19,
   "metadata": {
    "ExecuteTime": {
     "end_time": "2019-02-24T01:36:38.714664Z",
     "start_time": "2019-02-24T01:36:38.426137Z"
    }
   },
   "outputs": [
    {
     "data": {
      "text/plain": [
       "<matplotlib.legend.Legend at 0x1c225f1978>"
      ]
     },
     "execution_count": 19,
     "metadata": {},
     "output_type": "execute_result"
    },
    {
     "data": {
      "image/png": "[encoded data removed]",
      "text/plain": [
       "<Figure size 720x288 with 1 Axes>"
      ]
     },
     "metadata": {
      "needs_background": "light"
     },
     "output_type": "display_data"
    }
   ],
   "source": [
    "rolling_gbm = res_gbm_daily[\"Rolling_OOS\"].drop(outliers, axis=1)\n",
    "rolling_rr = res_RR_daily[\"Rolling_OOS\"].drop(outliers, axis=1)\n",
    "fig, ax = plt.subplots(1,1, figsize=(10,4))\n",
    "\n",
    "ax.set_title('Cumulative Average MAE Over Time', fontweight=700)\n",
    "\n",
    "l1, = ax.plot(rolling_rr.mean(1))\n",
    "l2, = ax.plot(rolling_gbm.mean(1), color='green')\n",
    "\n",
    "ax.legend((l1, l2), ('RR %s' % return_type, 'GBM %s' % return_type))"
   ]
  },
  {
   "cell_type": "code",
   "execution_count": null,
   "metadata": {},
   "outputs": [],
   "source": []
  }
 ],
 "metadata": {
  "hide_input": false,
  "kernelspec": {
   "display_name": "Python [conda env:afp_forecast]",
   "language": "python",
   "name": "conda-env-afp_forecast-py"
  },
  "language_info": {
   "codemirror_mode": {
    "name": "ipython",
    "version": 3
   },
   "file_extension": ".py",
   "mimetype": "text/x-python",
   "name": "python",
   "nbconvert_exporter": "python",
   "pygments_lexer": "ipython3",
   "version": "3.6.8"
  },
  "toc": {
   "base_numbering": 1,
   "nav_menu": {},
   "number_sections": false,
   "sideBar": true,
   "skip_h1_title": false,
   "title_cell": "Table of Contents",
   "title_sidebar": "Contents",
   "toc_cell": false,
   "toc_position": {},
   "toc_section_display": true,
   "toc_window_display": false
  }
 },
 "nbformat": 4,
 "nbformat_minor": 2
}
